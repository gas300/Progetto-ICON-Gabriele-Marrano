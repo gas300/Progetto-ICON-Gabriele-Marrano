{
  "nbformat": 4,
  "nbformat_minor": 0,
  "metadata": {
    "colab": {
      "provenance": [],
      "mount_file_id": "1L5MFdUc0WWPwVm1qHGnECsQHlbGtQDnw",
      "authorship_tag": "ABX9TyMBvUwI+yiyEj5JG/kvKYUC",
      "include_colab_link": true
    },
    "kernelspec": {
      "name": "python3",
      "display_name": "Python 3"
    },
    "language_info": {
      "name": "python"
    }
  },
  "cells": [
    {
      "cell_type": "markdown",
      "metadata": {
        "id": "view-in-github",
        "colab_type": "text"
      },
      "source": [
        "<a href=\"https://colab.research.google.com/github/gas300/Progetto-ICON-Gabriele-Marrano/blob/main/Creazione_e_popolamento_dei_file_prolog.ipynb\" target=\"_parent\"><img src=\"https://colab.research.google.com/assets/colab-badge.svg\" alt=\"Open In Colab\"/></a>"
      ]
    },
    {
      "cell_type": "markdown",
      "source": [
        "## **Creazione e popolamento del file \"richieste.pl\"**"
      ],
      "metadata": {
        "id": "cNggQb4p1huZ"
      }
    },
    {
      "cell_type": "code",
      "execution_count": 5,
      "metadata": {
        "id": "ZD6xBvGcPMQJ"
      },
      "outputs": [],
      "source": [
        "import csv\n",
        "\n",
        "# Definizione del predicato per rappresentare le richieste\n",
        "definizione_predicato = \"\"\"% Definizione del predicato per rappresentare le richieste\n",
        "richiesta(loan_id, no_of_dependents, education, self_employed, income_annum, loan_amount, loan_term, cibil_score, residential_assets_value, commercial_assets_value, luxury_assets_value, bank_asset_value, loan_status).\n",
        "\n",
        "% Fatti rappresentanti le richieste di prestito\n",
        "\"\"\"\n",
        "\n",
        "def csv_to_prolog_fact(row):\n",
        "    return \"richiesta({}, {}, '{}', '{}', {}, {}, {}, {}, {}, {}, {}, {}, '{}').\".format(row[0], row[1], row[2], row[3], row[4], row[5], row[6],row[7], row[8], row[9], row[10], row[11], row[12])\n",
        "\n",
        "with open('/content/drive/MyDrive/loan_approval_dataset.csv', 'r') as csv_file, open('richieste.pl', 'w') as prolog_file:\n",
        "    prolog_file.write(definizione_predicato)  # Scrivi la definizione del predicato\n",
        "    csv_reader = csv.reader(csv_file)\n",
        "    next(csv_reader)  # Salta la riga d'intestazione\n",
        "    for row in csv_reader:\n",
        "        prolog_fact = csv_to_prolog_fact(row)\n",
        "        prolog_file.write(prolog_fact + '\\n')\n",
        "\n",
        "\n"
      ]
    },
    {
      "cell_type": "markdown",
      "source": [
        "## **Creazione e popolamento del file \"attivi.pl\"**"
      ],
      "metadata": {
        "id": "ac-VFOxD1xL7"
      }
    },
    {
      "cell_type": "code",
      "execution_count": 2,
      "metadata": {
        "id": "sf2XioU91gbo"
      },
      "outputs": [],
      "source": [
        "import csv\n",
        "\n",
        "# Definizione del predicato per rappresentare gli attivi\n",
        "definizione_predicato = \"\"\"% Definizione del predicato per rappresentare gli attivi\n",
        "attivo(loan_id, income_annum, commercial_assets_value, bank_asset_value).\n",
        "\n",
        "% Fatti rappresentanti gli attivi del richiedente\n",
        "\"\"\"\n",
        "\n",
        "def csv_to_prolog_fact(row):\n",
        "    return \"attivo({}, {}, {}, {}).\".format(row[0], row[4], row[9], row[11])\n",
        "\n",
        "with open('/content/drive/MyDrive/loan_approval_dataset.csv', 'r') as csv_file, open('attivi.pl', 'w') as prolog_file:\n",
        "    prolog_file.write(definizione_predicato)  # Scrivi la definizione del predicato\n",
        "    csv_reader = csv.reader(csv_file)\n",
        "    next(csv_reader)  # Salta la riga d'intestazione\n",
        "    for row in csv_reader:\n",
        "        prolog_fact = csv_to_prolog_fact(row)\n",
        "        prolog_file.write(prolog_fact + '\\n')\n"
      ]
    },
    {
      "cell_type": "markdown",
      "source": [
        "## **Creazione e popolamento del file \"passivi.pl\"**"
      ],
      "metadata": {
        "id": "10wrxjgT55-n"
      }
    },
    {
      "cell_type": "code",
      "execution_count": 3,
      "metadata": {
        "id": "IbKrPIQ06Cjx"
      },
      "outputs": [],
      "source": [
        "import csv\n",
        "\n",
        "# Definizione del predicato per rappresentare i passivi\n",
        "definizione_predicato = \"\"\"% Definizione del predicato per rappresentare i passivi\n",
        "passivo(loan_id, no_of_dependents, loan_amount, luxury_assets_value).\n",
        "\n",
        "% Fatti rappresentanti i passivi del richiedente\n",
        "\"\"\"\n",
        "\n",
        "def csv_to_prolog_fact(row):\n",
        "    return \"passivo({}, {}, {}, {}).\".format(row[0], row[1], row[5], row[10])\n",
        "\n",
        "with open('/content/drive/MyDrive/loan_approval_dataset.csv', 'r') as csv_file, open('passivi.pl', 'w') as prolog_file:\n",
        "    prolog_file.write(definizione_predicato)  # Scrivi la definizione del predicato\n",
        "    csv_reader = csv.reader(csv_file)\n",
        "    next(csv_reader)  # Salta la riga d'intestazione\n",
        "    for row in csv_reader:\n",
        "        prolog_fact = csv_to_prolog_fact(row)\n",
        "        prolog_file.write(prolog_fact + '\\n')\n"
      ]
    },
    {
      "cell_type": "markdown",
      "source": [
        "## **Creazione e popolamento del file \"garanzie.pl\"**"
      ],
      "metadata": {
        "id": "SRURJiYa8OCz"
      }
    },
    {
      "cell_type": "code",
      "execution_count": 4,
      "metadata": {
        "id": "4DYOEBOY8OC8"
      },
      "outputs": [],
      "source": [
        "import csv\n",
        "\n",
        "# Definizione del predicato per rappresentare le garanzie\n",
        "definizione_predicato = \"\"\"% Definizione del predicato per rappresentare le garanzie\n",
        "garanzie(loan_id, no_of_dependents, loan_amount, luxury_assets_value).\n",
        "\n",
        "% Fatti rappresentanti le garanzie per la banca in caso di mancata solvibilità del prestito\n",
        "\"\"\"\n",
        "\n",
        "def csv_to_prolog_fact(row):\n",
        "    return \"garanzie({}, {}, {}, {}, {}).\".format(row[0], row[8], row[9], row[10], row[11])\n",
        "\n",
        "with open('/content/drive/MyDrive/loan_approval_dataset.csv', 'r') as csv_file, open('garanzie.pl', 'w') as prolog_file:\n",
        "    prolog_file.write(definizione_predicato)  # Scrivi la definizione del predicato\n",
        "    csv_reader = csv.reader(csv_file)\n",
        "    next(csv_reader)  # Salta la riga d'intestazione\n",
        "    for row in csv_reader:\n",
        "        prolog_fact = csv_to_prolog_fact(row)\n",
        "        prolog_file.write(prolog_fact + '\\n')\n"
      ]
    }
  ]
}