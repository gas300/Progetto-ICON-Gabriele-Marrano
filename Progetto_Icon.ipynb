{
  "cells": [
    {
      "cell_type": "markdown",
      "metadata": {
        "id": "view-in-github",
        "colab_type": "text"
      },
      "source": [
        "<a href=\"https://colab.research.google.com/github/gas300/Progetto-ICON-Gabriele-Marrano/blob/main/Progetto_Icon.ipynb\" target=\"_parent\"><img src=\"https://colab.research.google.com/assets/colab-badge.svg\" alt=\"Open In Colab\"/></a>"
      ]
    },
    {
      "cell_type": "markdown",
      "metadata": {
        "id": "MQcjHt9P1nYI"
      },
      "source": [
        "#**Titolo**\n",
        "\n",
        "*descrizione progetto*"
      ]
    },
    {
      "cell_type": "code",
      "execution_count": null,
      "metadata": {
        "id": "9ROtw60WqzIZ",
        "colab": {
          "base_uri": "https://localhost:8080/"
        },
        "outputId": "773d0c89-d539-4b4c-e1df-9a7723723a88"
      },
      "outputs": [
        {
          "output_type": "stream",
          "name": "stdout",
          "text": [
            "Drive already mounted at /content/drive; to attempt to forcibly remount, call drive.mount(\"/content/drive\", force_remount=True).\n"
          ]
        }
      ],
      "source": [
        "from google.colab import drive\n",
        "drive.mount('/content/drive')"
      ]
    },
    {
      "cell_type": "markdown",
      "metadata": {
        "id": "GXXhKjjsOQds"
      },
      "source": [
        "##**Creazione e preelaborazione del dataframe**"
      ]
    },
    {
      "cell_type": "markdown",
      "metadata": {
        "id": "_Ob91Tna31Sp"
      },
      "source": [
        "###**Installazione librerie**"
      ]
    },
    {
      "cell_type": "code",
      "execution_count": 23,
      "metadata": {
        "colab": {
          "base_uri": "https://localhost:8080/"
        },
        "id": "fHeyXyDY3LJH",
        "outputId": "1e6b9c3b-b2c7-4c2d-f29a-7789bee8fc75"
      },
      "outputs": [
        {
          "output_type": "stream",
          "name": "stdout",
          "text": [
            "Requirement already satisfied: matplotlib in /usr/local/lib/python3.10/dist-packages (3.7.2)\n",
            "Requirement already satisfied: contourpy>=1.0.1 in /usr/local/lib/python3.10/dist-packages (from matplotlib) (1.1.0)\n",
            "Requirement already satisfied: cycler>=0.10 in /usr/local/lib/python3.10/dist-packages (from matplotlib) (0.11.0)\n",
            "Requirement already satisfied: fonttools>=4.22.0 in /usr/local/lib/python3.10/dist-packages (from matplotlib) (4.42.0)\n",
            "Requirement already satisfied: kiwisolver>=1.0.1 in /usr/local/lib/python3.10/dist-packages (from matplotlib) (1.4.4)\n",
            "Requirement already satisfied: numpy>=1.20 in /usr/local/lib/python3.10/dist-packages (from matplotlib) (1.23.5)\n",
            "Requirement already satisfied: packaging>=20.0 in /usr/local/lib/python3.10/dist-packages (from matplotlib) (23.1)\n",
            "Requirement already satisfied: pillow>=6.2.0 in /usr/local/lib/python3.10/dist-packages (from matplotlib) (9.4.0)\n",
            "Requirement already satisfied: pyparsing<3.1,>=2.3.1 in /usr/local/lib/python3.10/dist-packages (from matplotlib) (3.0.9)\n",
            "Requirement already satisfied: python-dateutil>=2.7 in /usr/local/lib/python3.10/dist-packages (from matplotlib) (2.8.2)\n",
            "Requirement already satisfied: six>=1.5 in /usr/local/lib/python3.10/dist-packages (from python-dateutil>=2.7->matplotlib) (1.16.0)\n",
            "Requirement already satisfied: imbalanced-learn in /usr/local/lib/python3.10/dist-packages (0.10.1)\n",
            "Requirement already satisfied: numpy>=1.17.3 in /usr/local/lib/python3.10/dist-packages (from imbalanced-learn) (1.23.5)\n",
            "Requirement already satisfied: scipy>=1.3.2 in /usr/local/lib/python3.10/dist-packages (from imbalanced-learn) (1.10.1)\n",
            "Requirement already satisfied: scikit-learn>=1.0.2 in /usr/local/lib/python3.10/dist-packages (from imbalanced-learn) (1.2.2)\n",
            "Requirement already satisfied: joblib>=1.1.1 in /usr/local/lib/python3.10/dist-packages (from imbalanced-learn) (1.3.2)\n",
            "Requirement already satisfied: threadpoolctl>=2.0.0 in /usr/local/lib/python3.10/dist-packages (from imbalanced-learn) (3.2.0)\n",
            "Requirement already satisfied: tqdm in /usr/local/lib/python3.10/dist-packages (4.66.1)\n"
          ]
        }
      ],
      "source": [
        "!pip install --upgrade matplotlib\n",
        "!pip install imbalanced-learn\n",
        "!pip install tqdm\n",
        "\n",
        "\n",
        "\n",
        "\n",
        "import numpy as np\n",
        "import pandas as pd\n",
        "import seaborn as sns\n",
        "import matplotlib.pyplot as plt\n",
        "import plotly.express as px\n",
        "import sklearn as skl\n",
        "from tqdm import tqdm\n",
        "import warnings\n",
        "\n",
        "\n",
        "from sklearn.svm import SVC\n",
        "from sklearn import preprocessing, metrics\n",
        "from sklearn.model_selection import train_test_split, cross_val_score, StratifiedKFold, KFold, GridSearchCV\n",
        "\n",
        "from imblearn.under_sampling import RandomUnderSampler\n",
        "from imblearn.over_sampling import RandomOverSampler\n",
        "\n",
        "from sklearn.neighbors import KNeighborsClassifier\n",
        "from sklearn.svm import SVC\n",
        "from sklearn.ensemble import RandomForestClassifier\n",
        "from sklearn.neural_network import MLPClassifier\n",
        "\n",
        "from sklearn.metrics import make_scorer, accuracy_score, f1_score, precision_score, confusion_matrix, recall_score, classification_report, precision_recall_curve, PrecisionRecallDisplay, roc_curve, RocCurveDisplay\n",
        "from sklearn.naive_bayes import GaussianNB\n",
        "from sklearn.cluster import KMeans\n",
        "from collections import Counter\n"
      ]
    },
    {
      "cell_type": "markdown",
      "metadata": {
        "id": "lxZosUCx3_ZH"
      },
      "source": [
        "Il dataset di approvazione del prestito è una raccolta di documenti finanziari e informazioni associate utilizzate per determinare l'idoneità di individui o organizzazioni a ottenere prestiti da un istituto di credito. Include varie features come il punteggio civico, il reddito, lo stato occupazionale, la durata del prestito, l'importo del prestito, il valore patrimoniale e lo stato del prestito.\n",
        "\n",
        "Spiegazione delle features:\n",
        "- `no_of_dependents`: Numero di persone a carico del richiedente\n",
        "- `education`: Livello di struzione del richiedente\n",
        "- `self_employed`: Condizione occupazionale del richiedente\n",
        "- `income_annum`: Reddito annuale del richiedente\n",
        "- `loan_amount\t`: Ammontare del prestito\n",
        "- `loan_term`: Durata del prestito in anni\n",
        "- `cibil_score`: Punteggio rappresentante la solvibilità creditizia dei richiedenti di prestiti o mutui. E' calcolato dall'agenzia di informazione di credito Credit Information Bureau India Limited (CIBIL)\n",
        "- `residential_assets_value`: Valore dei beni residenziali\n",
        "- `commercial_assets_value`: Valore dei beni commerciali\n",
        "- `luxury_assets_value`: Valore dei beni di lusso\n",
        "- `bank_asset_value`: Valore dei beni depositati in banca\n",
        "- `loan_status`: Stato di approvazione del prestito\n",
        "\n",
        "Il caso di studio parte quindi con la lettura del dataset e la creazione del dataframe, segue con una fase di preelaborazione del dataframe per rendere, inizialmente una migliore compresione della struttura di questo, e successivamente ottimizzarlo per le operazioni successive."
      ]
    },
    {
      "cell_type": "code",
      "execution_count": 24,
      "metadata": {
        "colab": {
          "base_uri": "https://localhost:8080/",
          "height": 261
        },
        "id": "FoA_0r7Z1Rzf",
        "outputId": "a7eb5ee1-a0e2-4f14-e694-d769315f78ee"
      },
      "outputs": [
        {
          "output_type": "execute_result",
          "data": {
            "text/plain": [
              "   no_of_dependents     education self_employed   income_annum  \\\n",
              "0                 2      Graduate            No  ₹9,600,000.00   \n",
              "1                 0  Not Graduate           Yes  ₹4,100,000.00   \n",
              "2                 3      Graduate            No  ₹9,100,000.00   \n",
              "3                 3      Graduate            No  ₹8,200,000.00   \n",
              "4                 5  Not Graduate           Yes  ₹9,800,000.00   \n",
              "\n",
              "      loan_amount  loan_term  cibil_score residential_assets_value  \\\n",
              "0  ₹29,900,000.00         12          778            ₹2,400,000.00   \n",
              "1  ₹12,200,000.00          8          417            ₹2,700,000.00   \n",
              "2  ₹29,700,000.00         20          506            ₹7,100,000.00   \n",
              "3  ₹30,700,000.00          8          467           ₹18,200,000.00   \n",
              "4  ₹24,200,000.00         20          382           ₹12,400,000.00   \n",
              "\n",
              "  commercial_assets_value luxury_assets_value bank_asset_value loan_status  \n",
              "0          ₹17,600,000.00      ₹22,700,000.00    ₹8,000,000.00    Approved  \n",
              "1           ₹2,200,000.00       ₹8,800,000.00    ₹3,300,000.00    Rejected  \n",
              "2           ₹4,500,000.00      ₹33,300,000.00   ₹12,800,000.00    Rejected  \n",
              "3           ₹3,300,000.00      ₹23,300,000.00    ₹7,900,000.00    Rejected  \n",
              "4           ₹8,200,000.00      ₹29,400,000.00    ₹5,000,000.00    Rejected  "
            ],
            "text/html": [
              "\n",
              "  <div id=\"df-3d1315c8-7153-4a1a-a853-ba0a9d95c752\" class=\"colab-df-container\">\n",
              "    <div>\n",
              "<style scoped>\n",
              "    .dataframe tbody tr th:only-of-type {\n",
              "        vertical-align: middle;\n",
              "    }\n",
              "\n",
              "    .dataframe tbody tr th {\n",
              "        vertical-align: top;\n",
              "    }\n",
              "\n",
              "    .dataframe thead th {\n",
              "        text-align: right;\n",
              "    }\n",
              "</style>\n",
              "<table border=\"1\" class=\"dataframe\">\n",
              "  <thead>\n",
              "    <tr style=\"text-align: right;\">\n",
              "      <th></th>\n",
              "      <th>no_of_dependents</th>\n",
              "      <th>education</th>\n",
              "      <th>self_employed</th>\n",
              "      <th>income_annum</th>\n",
              "      <th>loan_amount</th>\n",
              "      <th>loan_term</th>\n",
              "      <th>cibil_score</th>\n",
              "      <th>residential_assets_value</th>\n",
              "      <th>commercial_assets_value</th>\n",
              "      <th>luxury_assets_value</th>\n",
              "      <th>bank_asset_value</th>\n",
              "      <th>loan_status</th>\n",
              "    </tr>\n",
              "  </thead>\n",
              "  <tbody>\n",
              "    <tr>\n",
              "      <th>0</th>\n",
              "      <td>2</td>\n",
              "      <td>Graduate</td>\n",
              "      <td>No</td>\n",
              "      <td>₹9,600,000.00</td>\n",
              "      <td>₹29,900,000.00</td>\n",
              "      <td>12</td>\n",
              "      <td>778</td>\n",
              "      <td>₹2,400,000.00</td>\n",
              "      <td>₹17,600,000.00</td>\n",
              "      <td>₹22,700,000.00</td>\n",
              "      <td>₹8,000,000.00</td>\n",
              "      <td>Approved</td>\n",
              "    </tr>\n",
              "    <tr>\n",
              "      <th>1</th>\n",
              "      <td>0</td>\n",
              "      <td>Not Graduate</td>\n",
              "      <td>Yes</td>\n",
              "      <td>₹4,100,000.00</td>\n",
              "      <td>₹12,200,000.00</td>\n",
              "      <td>8</td>\n",
              "      <td>417</td>\n",
              "      <td>₹2,700,000.00</td>\n",
              "      <td>₹2,200,000.00</td>\n",
              "      <td>₹8,800,000.00</td>\n",
              "      <td>₹3,300,000.00</td>\n",
              "      <td>Rejected</td>\n",
              "    </tr>\n",
              "    <tr>\n",
              "      <th>2</th>\n",
              "      <td>3</td>\n",
              "      <td>Graduate</td>\n",
              "      <td>No</td>\n",
              "      <td>₹9,100,000.00</td>\n",
              "      <td>₹29,700,000.00</td>\n",
              "      <td>20</td>\n",
              "      <td>506</td>\n",
              "      <td>₹7,100,000.00</td>\n",
              "      <td>₹4,500,000.00</td>\n",
              "      <td>₹33,300,000.00</td>\n",
              "      <td>₹12,800,000.00</td>\n",
              "      <td>Rejected</td>\n",
              "    </tr>\n",
              "    <tr>\n",
              "      <th>3</th>\n",
              "      <td>3</td>\n",
              "      <td>Graduate</td>\n",
              "      <td>No</td>\n",
              "      <td>₹8,200,000.00</td>\n",
              "      <td>₹30,700,000.00</td>\n",
              "      <td>8</td>\n",
              "      <td>467</td>\n",
              "      <td>₹18,200,000.00</td>\n",
              "      <td>₹3,300,000.00</td>\n",
              "      <td>₹23,300,000.00</td>\n",
              "      <td>₹7,900,000.00</td>\n",
              "      <td>Rejected</td>\n",
              "    </tr>\n",
              "    <tr>\n",
              "      <th>4</th>\n",
              "      <td>5</td>\n",
              "      <td>Not Graduate</td>\n",
              "      <td>Yes</td>\n",
              "      <td>₹9,800,000.00</td>\n",
              "      <td>₹24,200,000.00</td>\n",
              "      <td>20</td>\n",
              "      <td>382</td>\n",
              "      <td>₹12,400,000.00</td>\n",
              "      <td>₹8,200,000.00</td>\n",
              "      <td>₹29,400,000.00</td>\n",
              "      <td>₹5,000,000.00</td>\n",
              "      <td>Rejected</td>\n",
              "    </tr>\n",
              "  </tbody>\n",
              "</table>\n",
              "</div>\n",
              "    <div class=\"colab-df-buttons\">\n",
              "\n",
              "  <div class=\"colab-df-container\">\n",
              "    <button class=\"colab-df-convert\" onclick=\"convertToInteractive('df-3d1315c8-7153-4a1a-a853-ba0a9d95c752')\"\n",
              "            title=\"Convert this dataframe to an interactive table.\"\n",
              "            style=\"display:none;\">\n",
              "\n",
              "  <svg xmlns=\"http://www.w3.org/2000/svg\" height=\"24px\" viewBox=\"0 -960 960 960\">\n",
              "    <path d=\"M120-120v-720h720v720H120Zm60-500h600v-160H180v160Zm220 220h160v-160H400v160Zm0 220h160v-160H400v160ZM180-400h160v-160H180v160Zm440 0h160v-160H620v160ZM180-180h160v-160H180v160Zm440 0h160v-160H620v160Z\"/>\n",
              "  </svg>\n",
              "    </button>\n",
              "\n",
              "  <style>\n",
              "    .colab-df-container {\n",
              "      display:flex;\n",
              "      gap: 12px;\n",
              "    }\n",
              "\n",
              "    .colab-df-convert {\n",
              "      background-color: #E8F0FE;\n",
              "      border: none;\n",
              "      border-radius: 50%;\n",
              "      cursor: pointer;\n",
              "      display: none;\n",
              "      fill: #1967D2;\n",
              "      height: 32px;\n",
              "      padding: 0 0 0 0;\n",
              "      width: 32px;\n",
              "    }\n",
              "\n",
              "    .colab-df-convert:hover {\n",
              "      background-color: #E2EBFA;\n",
              "      box-shadow: 0px 1px 2px rgba(60, 64, 67, 0.3), 0px 1px 3px 1px rgba(60, 64, 67, 0.15);\n",
              "      fill: #174EA6;\n",
              "    }\n",
              "\n",
              "    .colab-df-buttons div {\n",
              "      margin-bottom: 4px;\n",
              "    }\n",
              "\n",
              "    [theme=dark] .colab-df-convert {\n",
              "      background-color: #3B4455;\n",
              "      fill: #D2E3FC;\n",
              "    }\n",
              "\n",
              "    [theme=dark] .colab-df-convert:hover {\n",
              "      background-color: #434B5C;\n",
              "      box-shadow: 0px 1px 3px 1px rgba(0, 0, 0, 0.15);\n",
              "      filter: drop-shadow(0px 1px 2px rgba(0, 0, 0, 0.3));\n",
              "      fill: #FFFFFF;\n",
              "    }\n",
              "  </style>\n",
              "\n",
              "    <script>\n",
              "      const buttonEl =\n",
              "        document.querySelector('#df-3d1315c8-7153-4a1a-a853-ba0a9d95c752 button.colab-df-convert');\n",
              "      buttonEl.style.display =\n",
              "        google.colab.kernel.accessAllowed ? 'block' : 'none';\n",
              "\n",
              "      async function convertToInteractive(key) {\n",
              "        const element = document.querySelector('#df-3d1315c8-7153-4a1a-a853-ba0a9d95c752');\n",
              "        const dataTable =\n",
              "          await google.colab.kernel.invokeFunction('convertToInteractive',\n",
              "                                                    [key], {});\n",
              "        if (!dataTable) return;\n",
              "\n",
              "        const docLinkHtml = 'Like what you see? Visit the ' +\n",
              "          '<a target=\"_blank\" href=https://colab.research.google.com/notebooks/data_table.ipynb>data table notebook</a>'\n",
              "          + ' to learn more about interactive tables.';\n",
              "        element.innerHTML = '';\n",
              "        dataTable['output_type'] = 'display_data';\n",
              "        await google.colab.output.renderOutput(dataTable, element);\n",
              "        const docLink = document.createElement('div');\n",
              "        docLink.innerHTML = docLinkHtml;\n",
              "        element.appendChild(docLink);\n",
              "      }\n",
              "    </script>\n",
              "  </div>\n",
              "\n",
              "\n",
              "<div id=\"df-fcc8e8f5-de61-49e3-80d2-fe3fbdf5d3dc\">\n",
              "  <button class=\"colab-df-quickchart\" onclick=\"quickchart('df-fcc8e8f5-de61-49e3-80d2-fe3fbdf5d3dc')\"\n",
              "            title=\"Suggest charts.\"\n",
              "            style=\"display:none;\">\n",
              "\n",
              "<svg xmlns=\"http://www.w3.org/2000/svg\" height=\"24px\"viewBox=\"0 0 24 24\"\n",
              "     width=\"24px\">\n",
              "    <g>\n",
              "        <path d=\"M19 3H5c-1.1 0-2 .9-2 2v14c0 1.1.9 2 2 2h14c1.1 0 2-.9 2-2V5c0-1.1-.9-2-2-2zM9 17H7v-7h2v7zm4 0h-2V7h2v10zm4 0h-2v-4h2v4z\"/>\n",
              "    </g>\n",
              "</svg>\n",
              "  </button>\n",
              "\n",
              "<style>\n",
              "  .colab-df-quickchart {\n",
              "    background-color: #E8F0FE;\n",
              "    border: none;\n",
              "    border-radius: 50%;\n",
              "    cursor: pointer;\n",
              "    display: none;\n",
              "    fill: #1967D2;\n",
              "    height: 32px;\n",
              "    padding: 0 0 0 0;\n",
              "    width: 32px;\n",
              "  }\n",
              "\n",
              "  .colab-df-quickchart:hover {\n",
              "    background-color: #E2EBFA;\n",
              "    box-shadow: 0px 1px 2px rgba(60, 64, 67, 0.3), 0px 1px 3px 1px rgba(60, 64, 67, 0.15);\n",
              "    fill: #174EA6;\n",
              "  }\n",
              "\n",
              "  [theme=dark] .colab-df-quickchart {\n",
              "    background-color: #3B4455;\n",
              "    fill: #D2E3FC;\n",
              "  }\n",
              "\n",
              "  [theme=dark] .colab-df-quickchart:hover {\n",
              "    background-color: #434B5C;\n",
              "    box-shadow: 0px 1px 3px 1px rgba(0, 0, 0, 0.15);\n",
              "    filter: drop-shadow(0px 1px 2px rgba(0, 0, 0, 0.3));\n",
              "    fill: #FFFFFF;\n",
              "  }\n",
              "</style>\n",
              "\n",
              "  <script>\n",
              "    async function quickchart(key) {\n",
              "      const charts = await google.colab.kernel.invokeFunction(\n",
              "          'suggestCharts', [key], {});\n",
              "    }\n",
              "    (() => {\n",
              "      let quickchartButtonEl =\n",
              "        document.querySelector('#df-fcc8e8f5-de61-49e3-80d2-fe3fbdf5d3dc button');\n",
              "      quickchartButtonEl.style.display =\n",
              "        google.colab.kernel.accessAllowed ? 'block' : 'none';\n",
              "    })();\n",
              "  </script>\n",
              "</div>\n",
              "    </div>\n",
              "  </div>\n"
            ]
          },
          "metadata": {},
          "execution_count": 24
        }
      ],
      "source": [
        "# Lettura del dataset e creazione del dataframe\n",
        "df = pd.read_csv('/content/drive/MyDrive/Progetto Icon/loan_approval_dataset.csv')\n",
        "\n",
        "# Eliminazione della prima colonna in quanto rappresentate soltanto il numero della riga\n",
        "df = df.drop(df.columns[0], axis=1)\n",
        "\n",
        "# Simbolo della valuta da aggiungere\n",
        "simbolo_valuta = '₹'\n",
        "\n",
        "# Formatta la colonna 'prezzo' con il simbolo della valuta indiana utilizzando apply() e una f-string\n",
        "df['income_annum'] = df['income_annum'].apply(lambda x: f'{simbolo_valuta}{x:,.2f}')\n",
        "df['loan_amount'] = df['loan_amount'].apply(lambda x: f'{simbolo_valuta}{x:,.2f}')\n",
        "df['residential_assets_value'] = df['residential_assets_value'].apply(lambda x: f'{simbolo_valuta}{x:,.2f}')\n",
        "df['commercial_assets_value'] = df['commercial_assets_value'].apply(lambda x: f'{simbolo_valuta}{x:,.2f}')\n",
        "df['luxury_assets_value'] = df['luxury_assets_value'].apply(lambda x: f'{simbolo_valuta}{x:,.2f}')\n",
        "df['bank_asset_value'] = df['bank_asset_value'].apply(lambda x: f'{simbolo_valuta}{x:,.2f}')\n",
        "\n",
        "# Prime cinque righe del dataframe\n",
        "df.head()"
      ]
    },
    {
      "cell_type": "markdown",
      "metadata": {
        "id": "W92HGEiKQ84z"
      },
      "source": [
        "Seppur decisamente facilmente leggibile e perfettamente formattata, la tabella posta qui sopra rende difficoltose tutte le operazione matematiche che seguiranno, perciò si è deciso di mostrare la tabella per dare la possibilità, al lettore/utilizzatore di questo applicativo, di una **più semplice compresione** dei valori tabellari e della struttura del dataframe.\n",
        "Per il proseguo del caso di studio invece si utilizzerà la tabella ricavata nel seguente passaggio, che mappa i valori stringa rappresentati situazione binarie in appunto valori numeri di 0 e 1 per rispettivamente l'assenza e la presenza del valore della feature in questione"
      ]
    },
    {
      "cell_type": "code",
      "execution_count": 25,
      "metadata": {
        "colab": {
          "base_uri": "https://localhost:8080/",
          "height": 226
        },
        "id": "Yd2yxnilAwnH",
        "outputId": "db22fe4b-c64e-4325-d404-58d71d6ee94c"
      },
      "outputs": [
        {
          "output_type": "execute_result",
          "data": {
            "text/plain": [
              "   no_of_dependents  education  self_employed  income_annum  loan_amount  \\\n",
              "0                 2          1              0     9600000.0   29900000.0   \n",
              "1                 0          0              1     4100000.0   12200000.0   \n",
              "2                 3          1              0     9100000.0   29700000.0   \n",
              "3                 3          1              0     8200000.0   30700000.0   \n",
              "4                 5          0              1     9800000.0   24200000.0   \n",
              "\n",
              "   loan_term  cibil_score  residential_assets_value  commercial_assets_value  \\\n",
              "0         12          778                 2400000.0               17600000.0   \n",
              "1          8          417                 2700000.0                2200000.0   \n",
              "2         20          506                 7100000.0                4500000.0   \n",
              "3          8          467                18200000.0                3300000.0   \n",
              "4         20          382                12400000.0                8200000.0   \n",
              "\n",
              "   luxury_assets_value  bank_asset_value  loan_status  \n",
              "0           22700000.0         8000000.0            1  \n",
              "1            8800000.0         3300000.0            0  \n",
              "2           33300000.0        12800000.0            0  \n",
              "3           23300000.0         7900000.0            0  \n",
              "4           29400000.0         5000000.0            0  "
            ],
            "text/html": [
              "\n",
              "  <div id=\"df-abc85eb4-1aa7-4f47-89ad-5de8449f5757\" class=\"colab-df-container\">\n",
              "    <div>\n",
              "<style scoped>\n",
              "    .dataframe tbody tr th:only-of-type {\n",
              "        vertical-align: middle;\n",
              "    }\n",
              "\n",
              "    .dataframe tbody tr th {\n",
              "        vertical-align: top;\n",
              "    }\n",
              "\n",
              "    .dataframe thead th {\n",
              "        text-align: right;\n",
              "    }\n",
              "</style>\n",
              "<table border=\"1\" class=\"dataframe\">\n",
              "  <thead>\n",
              "    <tr style=\"text-align: right;\">\n",
              "      <th></th>\n",
              "      <th>no_of_dependents</th>\n",
              "      <th>education</th>\n",
              "      <th>self_employed</th>\n",
              "      <th>income_annum</th>\n",
              "      <th>loan_amount</th>\n",
              "      <th>loan_term</th>\n",
              "      <th>cibil_score</th>\n",
              "      <th>residential_assets_value</th>\n",
              "      <th>commercial_assets_value</th>\n",
              "      <th>luxury_assets_value</th>\n",
              "      <th>bank_asset_value</th>\n",
              "      <th>loan_status</th>\n",
              "    </tr>\n",
              "  </thead>\n",
              "  <tbody>\n",
              "    <tr>\n",
              "      <th>0</th>\n",
              "      <td>2</td>\n",
              "      <td>1</td>\n",
              "      <td>0</td>\n",
              "      <td>9600000.0</td>\n",
              "      <td>29900000.0</td>\n",
              "      <td>12</td>\n",
              "      <td>778</td>\n",
              "      <td>2400000.0</td>\n",
              "      <td>17600000.0</td>\n",
              "      <td>22700000.0</td>\n",
              "      <td>8000000.0</td>\n",
              "      <td>1</td>\n",
              "    </tr>\n",
              "    <tr>\n",
              "      <th>1</th>\n",
              "      <td>0</td>\n",
              "      <td>0</td>\n",
              "      <td>1</td>\n",
              "      <td>4100000.0</td>\n",
              "      <td>12200000.0</td>\n",
              "      <td>8</td>\n",
              "      <td>417</td>\n",
              "      <td>2700000.0</td>\n",
              "      <td>2200000.0</td>\n",
              "      <td>8800000.0</td>\n",
              "      <td>3300000.0</td>\n",
              "      <td>0</td>\n",
              "    </tr>\n",
              "    <tr>\n",
              "      <th>2</th>\n",
              "      <td>3</td>\n",
              "      <td>1</td>\n",
              "      <td>0</td>\n",
              "      <td>9100000.0</td>\n",
              "      <td>29700000.0</td>\n",
              "      <td>20</td>\n",
              "      <td>506</td>\n",
              "      <td>7100000.0</td>\n",
              "      <td>4500000.0</td>\n",
              "      <td>33300000.0</td>\n",
              "      <td>12800000.0</td>\n",
              "      <td>0</td>\n",
              "    </tr>\n",
              "    <tr>\n",
              "      <th>3</th>\n",
              "      <td>3</td>\n",
              "      <td>1</td>\n",
              "      <td>0</td>\n",
              "      <td>8200000.0</td>\n",
              "      <td>30700000.0</td>\n",
              "      <td>8</td>\n",
              "      <td>467</td>\n",
              "      <td>18200000.0</td>\n",
              "      <td>3300000.0</td>\n",
              "      <td>23300000.0</td>\n",
              "      <td>7900000.0</td>\n",
              "      <td>0</td>\n",
              "    </tr>\n",
              "    <tr>\n",
              "      <th>4</th>\n",
              "      <td>5</td>\n",
              "      <td>0</td>\n",
              "      <td>1</td>\n",
              "      <td>9800000.0</td>\n",
              "      <td>24200000.0</td>\n",
              "      <td>20</td>\n",
              "      <td>382</td>\n",
              "      <td>12400000.0</td>\n",
              "      <td>8200000.0</td>\n",
              "      <td>29400000.0</td>\n",
              "      <td>5000000.0</td>\n",
              "      <td>0</td>\n",
              "    </tr>\n",
              "  </tbody>\n",
              "</table>\n",
              "</div>\n",
              "    <div class=\"colab-df-buttons\">\n",
              "\n",
              "  <div class=\"colab-df-container\">\n",
              "    <button class=\"colab-df-convert\" onclick=\"convertToInteractive('df-abc85eb4-1aa7-4f47-89ad-5de8449f5757')\"\n",
              "            title=\"Convert this dataframe to an interactive table.\"\n",
              "            style=\"display:none;\">\n",
              "\n",
              "  <svg xmlns=\"http://www.w3.org/2000/svg\" height=\"24px\" viewBox=\"0 -960 960 960\">\n",
              "    <path d=\"M120-120v-720h720v720H120Zm60-500h600v-160H180v160Zm220 220h160v-160H400v160Zm0 220h160v-160H400v160ZM180-400h160v-160H180v160Zm440 0h160v-160H620v160ZM180-180h160v-160H180v160Zm440 0h160v-160H620v160Z\"/>\n",
              "  </svg>\n",
              "    </button>\n",
              "\n",
              "  <style>\n",
              "    .colab-df-container {\n",
              "      display:flex;\n",
              "      gap: 12px;\n",
              "    }\n",
              "\n",
              "    .colab-df-convert {\n",
              "      background-color: #E8F0FE;\n",
              "      border: none;\n",
              "      border-radius: 50%;\n",
              "      cursor: pointer;\n",
              "      display: none;\n",
              "      fill: #1967D2;\n",
              "      height: 32px;\n",
              "      padding: 0 0 0 0;\n",
              "      width: 32px;\n",
              "    }\n",
              "\n",
              "    .colab-df-convert:hover {\n",
              "      background-color: #E2EBFA;\n",
              "      box-shadow: 0px 1px 2px rgba(60, 64, 67, 0.3), 0px 1px 3px 1px rgba(60, 64, 67, 0.15);\n",
              "      fill: #174EA6;\n",
              "    }\n",
              "\n",
              "    .colab-df-buttons div {\n",
              "      margin-bottom: 4px;\n",
              "    }\n",
              "\n",
              "    [theme=dark] .colab-df-convert {\n",
              "      background-color: #3B4455;\n",
              "      fill: #D2E3FC;\n",
              "    }\n",
              "\n",
              "    [theme=dark] .colab-df-convert:hover {\n",
              "      background-color: #434B5C;\n",
              "      box-shadow: 0px 1px 3px 1px rgba(0, 0, 0, 0.15);\n",
              "      filter: drop-shadow(0px 1px 2px rgba(0, 0, 0, 0.3));\n",
              "      fill: #FFFFFF;\n",
              "    }\n",
              "  </style>\n",
              "\n",
              "    <script>\n",
              "      const buttonEl =\n",
              "        document.querySelector('#df-abc85eb4-1aa7-4f47-89ad-5de8449f5757 button.colab-df-convert');\n",
              "      buttonEl.style.display =\n",
              "        google.colab.kernel.accessAllowed ? 'block' : 'none';\n",
              "\n",
              "      async function convertToInteractive(key) {\n",
              "        const element = document.querySelector('#df-abc85eb4-1aa7-4f47-89ad-5de8449f5757');\n",
              "        const dataTable =\n",
              "          await google.colab.kernel.invokeFunction('convertToInteractive',\n",
              "                                                    [key], {});\n",
              "        if (!dataTable) return;\n",
              "\n",
              "        const docLinkHtml = 'Like what you see? Visit the ' +\n",
              "          '<a target=\"_blank\" href=https://colab.research.google.com/notebooks/data_table.ipynb>data table notebook</a>'\n",
              "          + ' to learn more about interactive tables.';\n",
              "        element.innerHTML = '';\n",
              "        dataTable['output_type'] = 'display_data';\n",
              "        await google.colab.output.renderOutput(dataTable, element);\n",
              "        const docLink = document.createElement('div');\n",
              "        docLink.innerHTML = docLinkHtml;\n",
              "        element.appendChild(docLink);\n",
              "      }\n",
              "    </script>\n",
              "  </div>\n",
              "\n",
              "\n",
              "<div id=\"df-09578c68-c62a-47af-80b2-3c4468a23fd5\">\n",
              "  <button class=\"colab-df-quickchart\" onclick=\"quickchart('df-09578c68-c62a-47af-80b2-3c4468a23fd5')\"\n",
              "            title=\"Suggest charts.\"\n",
              "            style=\"display:none;\">\n",
              "\n",
              "<svg xmlns=\"http://www.w3.org/2000/svg\" height=\"24px\"viewBox=\"0 0 24 24\"\n",
              "     width=\"24px\">\n",
              "    <g>\n",
              "        <path d=\"M19 3H5c-1.1 0-2 .9-2 2v14c0 1.1.9 2 2 2h14c1.1 0 2-.9 2-2V5c0-1.1-.9-2-2-2zM9 17H7v-7h2v7zm4 0h-2V7h2v10zm4 0h-2v-4h2v4z\"/>\n",
              "    </g>\n",
              "</svg>\n",
              "  </button>\n",
              "\n",
              "<style>\n",
              "  .colab-df-quickchart {\n",
              "    background-color: #E8F0FE;\n",
              "    border: none;\n",
              "    border-radius: 50%;\n",
              "    cursor: pointer;\n",
              "    display: none;\n",
              "    fill: #1967D2;\n",
              "    height: 32px;\n",
              "    padding: 0 0 0 0;\n",
              "    width: 32px;\n",
              "  }\n",
              "\n",
              "  .colab-df-quickchart:hover {\n",
              "    background-color: #E2EBFA;\n",
              "    box-shadow: 0px 1px 2px rgba(60, 64, 67, 0.3), 0px 1px 3px 1px rgba(60, 64, 67, 0.15);\n",
              "    fill: #174EA6;\n",
              "  }\n",
              "\n",
              "  [theme=dark] .colab-df-quickchart {\n",
              "    background-color: #3B4455;\n",
              "    fill: #D2E3FC;\n",
              "  }\n",
              "\n",
              "  [theme=dark] .colab-df-quickchart:hover {\n",
              "    background-color: #434B5C;\n",
              "    box-shadow: 0px 1px 3px 1px rgba(0, 0, 0, 0.15);\n",
              "    filter: drop-shadow(0px 1px 2px rgba(0, 0, 0, 0.3));\n",
              "    fill: #FFFFFF;\n",
              "  }\n",
              "</style>\n",
              "\n",
              "  <script>\n",
              "    async function quickchart(key) {\n",
              "      const charts = await google.colab.kernel.invokeFunction(\n",
              "          'suggestCharts', [key], {});\n",
              "    }\n",
              "    (() => {\n",
              "      let quickchartButtonEl =\n",
              "        document.querySelector('#df-09578c68-c62a-47af-80b2-3c4468a23fd5 button');\n",
              "      quickchartButtonEl.style.display =\n",
              "        google.colab.kernel.accessAllowed ? 'block' : 'none';\n",
              "    })();\n",
              "  </script>\n",
              "</div>\n",
              "    </div>\n",
              "  </div>\n"
            ]
          },
          "metadata": {},
          "execution_count": 25
        }
      ],
      "source": [
        "# Sostituzione valori binari in formato stringa in equivalente numerico\n",
        "df['education'] = df['education'].replace('Graduate', 1)\n",
        "df['education'] = df['education'].replace('Not Graduate', 0)\n",
        "df['self_employed'] = df['self_employed'].replace('Yes', 1)\n",
        "df['self_employed'] = df['self_employed'].replace('No', 0)\n",
        "df['loan_status'] = df['loan_status'].replace('Approved', 1)\n",
        "df['loan_status'] = df['loan_status'].replace('Rejected', 0)\n",
        "\n",
        "\n",
        "# Eliminazione del simbolo 'rupia indiana' e riconversione in float\n",
        "df['income_annum'] = df['income_annum'].apply(lambda x: float(x.replace(simbolo_valuta, '').replace(',', '')))\n",
        "df['loan_amount'] = df['loan_amount'].apply(lambda x: float(x.replace(simbolo_valuta, '').replace(',', '')))\n",
        "df['residential_assets_value'] = df['residential_assets_value'].apply(lambda x: float(x.replace(simbolo_valuta, '').replace(',', '')))\n",
        "df['commercial_assets_value'] = df['commercial_assets_value'].apply(lambda x: float(x.replace(simbolo_valuta, '').replace(',', '')))\n",
        "df['luxury_assets_value'] = df['luxury_assets_value'].apply(lambda x: float(x.replace(simbolo_valuta, '').replace(',', '')))\n",
        "df['bank_asset_value'] = df['bank_asset_value'].apply(lambda x: float(x.replace(simbolo_valuta, '').replace(',', '')))\n",
        "\n",
        "\n",
        "# Prime cinque righe del dataframe\n",
        "df.head()"
      ]
    },
    {
      "cell_type": "code",
      "execution_count": 26,
      "metadata": {
        "colab": {
          "base_uri": "https://localhost:8080/"
        },
        "id": "sOQVhAcI-Yqk",
        "outputId": "9ab510fd-fba0-4102-9fbf-61c68add9dd4"
      },
      "outputs": [
        {
          "output_type": "execute_result",
          "data": {
            "text/plain": [
              "no_of_dependents            0\n",
              "education                   0\n",
              "self_employed               0\n",
              "income_annum                0\n",
              "loan_amount                 0\n",
              "loan_term                   0\n",
              "cibil_score                 0\n",
              "residential_assets_value    0\n",
              "commercial_assets_value     0\n",
              "luxury_assets_value         0\n",
              "bank_asset_value            0\n",
              "loan_status                 0\n",
              "dtype: int64"
            ]
          },
          "metadata": {},
          "execution_count": 26
        }
      ],
      "source": [
        "# controllo dei valori mancanti in ogni colonna del dataframe\n",
        "df.isnull().sum()"
      ]
    },
    {
      "cell_type": "markdown",
      "metadata": {
        "id": "yAZEwXQq_aGb"
      },
      "source": [
        "### **Valutazione correlazioni**"
      ]
    },
    {
      "cell_type": "markdown",
      "metadata": {
        "id": "PE95d7RsMwtT"
      },
      "source": [
        "Una volta creato il dataframe si prosegue con un'analisi e una valutazione delle correlazioni tra le features per estrapolare attraverso il processo di inferenza deduttiva quante più informazioni possibili."
      ]
    },
    {
      "cell_type": "code",
      "execution_count": 27,
      "metadata": {
        "colab": {
          "base_uri": "https://localhost:8080/",
          "height": 633
        },
        "id": "D8uSK10t-cJT",
        "outputId": "42b37f1f-8ca4-4c6c-ce37-a0e33025687b"
      },
      "outputs": [
        {
          "output_type": "execute_result",
          "data": {
            "text/plain": [
              "<Axes: >"
            ]
          },
          "metadata": {},
          "execution_count": 27
        },
        {
          "output_type": "display_data",
          "data": {
            "text/plain": [
              "<Figure size 1500x600 with 2 Axes>"
            ],
            "image/png": "[encoded data removed]"
          },
          "metadata": {}
        }
      ],
      "source": [
        "plt.figure(figsize = (15,6))\n",
        "sns.heatmap(df.corr(), annot=True)"
      ]
    },
    {
      "cell_type": "markdown",
      "metadata": {
        "id": "Nu38EmrnNb4M"
      },
      "source": [
        "Prime osservazioni:\n",
        "\n",
        "\n",
        "*   Il reddito annuale presenta una forte correlazione diretta con l'ammontare del prestito richiesto e i valori del bene di lusso. Inoltre non trascurabile la buona correlazione diretta anche con il valore di asset commerciali e residenziali, nonchè il valore dei beni bancari\n",
        "*   La richiesta della quantià di debito rispecchia molto le correlazioni presenti nel punto precedente\n",
        "*   Il valore dei beni residenziali, di lusso e commerciali presentano una non trascurabile correlazione tra essi\n",
        "*   L' **approvazione del prestito** presenta un'importante correlazione con il punteggio calcolato dal CIBIL\n",
        "\n"
      ]
    },
    {
      "cell_type": "code",
      "execution_count": 28,
      "metadata": {
        "colab": {
          "base_uri": "https://localhost:8080/",
          "height": 415
        },
        "id": "VlkyugzlCWzz",
        "outputId": "0e857b97-a3cf-4cef-a087-307a6c1043e8"
      },
      "outputs": [
        {
          "output_type": "execute_result",
          "data": {
            "text/plain": [
              "<Axes: xlabel='loan_status', ylabel='count'>"
            ]
          },
          "metadata": {},
          "execution_count": 28
        },
        {
          "output_type": "display_data",
          "data": {
            "text/plain": [
              "<Figure size 1200x400 with 3 Axes>"
            ],
            "image/png": "[encoded data removed]"
          },
          "metadata": {}
        }
      ],
      "source": [
        "plt.figure(figsize = (12,4))\n",
        "\n",
        "plt.subplot(1,3,1)\n",
        "sns.countplot(x = 'education', data = df)\n",
        "\n",
        "plt.subplot(1,3,2)\n",
        "sns.countplot(x = 'self_employed', data = df)\n",
        "\n",
        "plt.subplot(1,3,3)\n",
        "sns.countplot(x = 'loan_status', data = df)\n"
      ]
    },
    {
      "cell_type": "markdown",
      "metadata": {
        "id": "LCvFQG8vF98m"
      },
      "source": [
        "E' possibile notare come il dataframe in questione, seppur non perfettamente bilanciato sulla variabile target, non presenti gravi segni di sbilanciamento.\n",
        "In seguito verrà valutato l'utilizzo dell'undersampling e dell'oversampling per migliorare le performance dei modelli di ML."
      ]
    },
    {
      "cell_type": "code",
      "execution_count": 29,
      "metadata": {
        "colab": {
          "base_uri": "https://localhost:8080/",
          "height": 1000
        },
        "id": "fGz8Gq-KEZRe",
        "outputId": "2dbc74c3-164e-4c04-9657-327e694f7af0"
      },
      "outputs": [
        {
          "output_type": "execute_result",
          "data": {
            "text/plain": [
              "<Axes: xlabel='bank_asset_value'>"
            ]
          },
          "metadata": {},
          "execution_count": 29
        },
        {
          "output_type": "display_data",
          "data": {
            "text/plain": [
              "<Figure size 1000x2500 with 9 Axes>"
            ],
            "image/png": "[encoded data removed]"
          },
          "metadata": {}
        }
      ],
      "source": [
        "\n",
        "warnings.filterwarnings(\"ignore\")\n",
        "plt.figure(figsize = (10,25))\n",
        "\n",
        "sns.set(color_codes = True)\n",
        "\n",
        "plt.subplot(5,2,1)\n",
        "sns.distplot(df.no_of_dependents, kde=False)\n",
        "\n",
        "plt.subplot(5,2,2)\n",
        "sns.distplot(df.income_annum, kde=False)\n",
        "\n",
        "plt.subplot(5,2,3)\n",
        "sns.distplot(df.loan_amount, kde=False)\n",
        "\n",
        "plt.subplot(5,2,4)\n",
        "sns.distplot(df.loan_term, kde=False)\n",
        "\n",
        "plt.subplot(5,2,5)\n",
        "sns.distplot(df.cibil_score, kde=False)\n",
        "\n",
        "plt.subplot(5,2,6)\n",
        "sns.distplot(df.residential_assets_value, kde=False)\n",
        "\n",
        "plt.subplot(5,2,7)\n",
        "sns.distplot(df.commercial_assets_value, kde=False)\n",
        "\n",
        "plt.subplot(5,2,8)\n",
        "sns.distplot(df.luxury_assets_value, kde=False)\n",
        "\n",
        "plt.subplot(5,2,9)\n",
        "sns.distplot(df.bank_asset_value, kde=False)"
      ]
    },
    {
      "cell_type": "markdown",
      "metadata": {
        "id": "cSHUAbQXGzBa"
      },
      "source": [
        "Altre osservazioni che possono essere fatte sono leseguenti:\n",
        "\n",
        "\n",
        "*   Il dataframe presenta una varietà di soggetti ottimamente bilanciata per quanto riguarda il reddito annuale del richiedente.\n",
        "*   Nonostante il punto precedente è possibile notare una decisa differenza nella gestione del denaro, in particolare:\n",
        "\n",
        "  *   La richiesta di prestito presenta valori molto simili a quella del valore dei beni di lusso, questo potrebbe significare che la tendenza dei soggetti nel dataframe sia quella di comprare beni di lusso attraverso la richiesta di un mutuo\n",
        "  *   E' presente un numero di soggetti decisamente elevato che non possiede o possiede in scarse quantità beni commerciali o residenziali che appunto sono una forma importante di reddito generato da investimenti\n",
        "\n",
        "*   Una fetta molto consistente dei richiedenti di un prestito detiene un deposito di beni bancari (denaro liquido, partecipazioni in fondi comuni di risparmio/investimento, azioni, titoli di stato ecc..) piuttosto ridotto. Ciò può significare quanto segue:\n",
        "\n",
        "  *   Un ampia circolazione di contante\n",
        "  *   Gran parte del reddito viene utilizzato per spese ordinarie\n",
        "\n",
        "\n",
        "\n",
        "\n",
        "\n",
        "\n",
        "\n",
        "\n",
        "\n"
      ]
    },
    {
      "cell_type": "markdown",
      "metadata": {
        "id": "12ShO2yzIJR4"
      },
      "source": [
        "### **Separazione features e target**\n",
        "\n",
        "Si prosegue quindi con la separazione del dataframe in variabili indipendenti (features/predittori), contenuta nella lista X, e della variabile dipendente (target/etichetta), contenuta in Y."
      ]
    },
    {
      "cell_type": "code",
      "execution_count": 30,
      "metadata": {
        "id": "6FtJeVUqWlVJ"
      },
      "outputs": [],
      "source": [
        "X = df.drop('loan_status', axis=1)\n",
        "y = df['loan_status']"
      ]
    },
    {
      "cell_type": "code",
      "source": [
        "print (y)"
      ],
      "metadata": {
        "colab": {
          "base_uri": "https://localhost:8080/"
        },
        "id": "LEaVnNO1TxYk",
        "outputId": "f9750b9f-f9fc-41d0-825b-28161dfe2ded"
      },
      "execution_count": 31,
      "outputs": [
        {
          "output_type": "stream",
          "name": "stdout",
          "text": [
            "0       1\n",
            "1       0\n",
            "2       0\n",
            "3       0\n",
            "4       0\n",
            "       ..\n",
            "4264    0\n",
            "4265    1\n",
            "4266    0\n",
            "4267    1\n",
            "4268    1\n",
            "Name: loan_status, Length: 4269, dtype: int64\n"
          ]
        }
      ]
    },
    {
      "cell_type": "markdown",
      "metadata": {
        "id": "hwAgDPhFMR5S"
      },
      "source": [
        "## **Apprendimento supervisionato**"
      ]
    },
    {
      "cell_type": "markdown",
      "source": [
        "L'apprendimento supervisionato è uno dei principali approcci nell'ambito del machine learning, che consiste nell'addestrare un modello utilizzando un insieme di dati di addestramento etichettato.\n",
        "Alcune considerazioni:\n",
        "\n",
        "\n",
        "1.   Il dataframe risulta essere **sbilanciato**. In particolare lo stato dei prestiti approvati è di circa il 62% maggiore rispetto a quelli non approvati. ***Seppure non è uno sbilanciamento estremo*** si è deciso di verificare se l'applicazione di tecniche di **oversampling** e **undersampling** potesse portare migliori performance.\n",
        "2.   Per ottimizzare le performance si farà utilizzo di una **Grid Search**. La Grid Search è una tecnica utilizzata per ottimizzare i parametri di un modello di machine learning. L'idea principale è di esplorare tutte le combinazioni possibili di valori dei parametri specificati in una griglia predefinita e selezionare la combinazione che offre le migliori prestazioni del modello.\n",
        "3.  Al fine di ottenere una stima più affidabile delle prestazioni del modello rispetto a una singola divisione in set di addestramento e test si è deciso di usare la tecnica di **k-fold cross-validation**. L'obiettivo della k-fold cross-validation è quello di suddividere il dataset in k subset (folds) di dimensioni approssimativamente uguali. Il modello viene addestrato e valutato k volte, utilizzando k-1 folds come set di addestramento e l'ultimo fold come set di test.\n",
        "4.  Si è deciso di **ottimizzare la precision** in quanto predire un errore di debito approvato quando in realtà non è così, non è più o meno aggravante del caso opposto.\n",
        "\n",
        "Questo capitolo quindi si evolverà come segue:\n",
        "\n",
        "\n",
        "*   Per ogni modello si eseguiranno i 3 seguenti casi:\n",
        "    1.  Creazione modello --> applicazione della grid search per ottimizzazione parametri --> K-fold cross validation per addestramento e test --> Calcolo performance\n",
        "    2.  Creazione modello --> applicazione undersampling al df --> applicazione della grid search per ottimizzazione parametri --> K-fold cross validation per addestramento e test --> Calcolo performance\n",
        "    3.  Creazione modello --> applicazione oversampling al df --> applicazione della grid search per ottimizzazione parametri --> K-fold cross validation per addestramento e test --> Calcolo performance\n",
        "\n",
        "    I modelli utilizzati sono: Knn, SVM, Random Forest e\n",
        "\n",
        "*   Discussione delle performance e conclusioni\n",
        "\n"
      ],
      "metadata": {
        "id": "IGvMZTsgl5d4"
      }
    },
    {
      "cell_type": "code",
      "source": [
        "# Creare un DataFrame vuoto\n",
        "df_performance = pd.DataFrame()"
      ],
      "metadata": {
        "id": "JZ6P3OYtKNV4"
      },
      "execution_count": 59,
      "outputs": []
    },
    {
      "cell_type": "markdown",
      "metadata": {
        "id": "-GpU5hh33WMa"
      },
      "source": [
        "###**KNN**"
      ]
    },
    {
      "cell_type": "markdown",
      "metadata": {
        "id": "dq8k0jptqDBb"
      },
      "source": [
        "####**KNN con dataframe originale**"
      ]
    },
    {
      "cell_type": "code",
      "execution_count": 60,
      "metadata": {
        "colab": {
          "base_uri": "https://localhost:8080/"
        },
        "id": "9cP9KgRqqbBw",
        "outputId": "7b1591e8-973f-47d1-a0a2-aa3f4ede2fac"
      },
      "outputs": [
        {
          "output_type": "stream",
          "name": "stdout",
          "text": [
            "Parametri ottimali: {'n_neighbors': 5, 'weights': 'uniform'}\n",
            "Average Recall: 0.8475159597105973\n",
            "Average Precision: 0.7325308433555728\n",
            "Average Accuracy: 0.7123473078910623\n",
            "Average F1-score: 0.785692595298968\n"
          ]
        }
      ],
      "source": [
        "# Definizione il numero di fold per la cross-validation\n",
        "k_folds = 10\n",
        "\n",
        "# Inizializzare una lista\n",
        "recalls = []\n",
        "precisions = []\n",
        "accuracies = []\n",
        "f1_scores = []\n",
        "\n",
        "# Creare il classificatore k-NN\n",
        "knn_classifier = KNeighborsClassifier()\n",
        "\n",
        "# Definire i parametri da testare con GridSearchCV\n",
        "param_grid = {\n",
        "    'n_neighbors': [1, 3, 5, 7, 9, 11, 13, 15, 17, 19, 21, 23],\n",
        "    'weights': ['uniform', 'distance'],\n",
        "}\n",
        "\n",
        "# Definire le metriche da utilizzare per la valutazione\n",
        "scoring = {\n",
        "    'recall': make_scorer(recall_score),\n",
        "    'precision': make_scorer(precision_score),\n",
        "    'accuracy': make_scorer(accuracy_score),\n",
        "    'f1_score': make_scorer(f1_score)\n",
        "}\n",
        "\n",
        "# Creare l'oggetto StratifiedKFold per la k-fold cross-validation\n",
        "stratified_kfold = StratifiedKFold(n_splits=k_folds, shuffle=True, random_state=42)\n",
        "\n",
        "# Creare l'oggetto GridSearchCV\n",
        "grid_search = GridSearchCV(knn_classifier, param_grid, scoring=scoring, refit='precision', cv=stratified_kfold)\n",
        "\n",
        "# Effettuare la ricerca dei parametri ottimali utilizzando GridSearchCV\n",
        "grid_search.fit(X, y)\n",
        "\n",
        "# Visualizzare i parametri ottimali\n",
        "print(\"Parametri ottimali:\", grid_search.best_params_)\n",
        "\n",
        "\n",
        "# Effettuare la k-fold cross-validation con sampling\n",
        "for train_index, test_index in stratified_kfold.split(X, y):\n",
        "    X_train, X_test = X.iloc[train_index], X.iloc[test_index]\n",
        "    y_train, y_test = y.iloc[train_index], y.iloc[test_index]\n",
        "\n",
        "    # Ottenere il miglior modello con i parametri ottimali\n",
        "    best_knn_classifier = grid_search.best_estimator_\n",
        "\n",
        "    # Effettuare le previsioni sul set di test\n",
        "    y_pred = best_knn_classifier.predict(X_test)\n",
        "\n",
        "    # Calcolo metriche di valutazione\n",
        "    recall = recall_score(y_test, y_pred)\n",
        "    precision = precision_score(y_test, y_pred)\n",
        "    accuracy = accuracy_score(y_test, y_pred)\n",
        "    f1 = f1_score(y_test, y_pred)\n",
        "\n",
        "    recalls.append(recall)\n",
        "    precisions.append(precision)\n",
        "    accuracies.append(accuracy)\n",
        "    f1_scores.append(f1)\n",
        "\n",
        "\n",
        "# Calcolare la media delle performance di tutti i fold\n",
        "average_recall = sum(recalls) / len(recalls)\n",
        "average_precision = sum(precisions) / len(precisions)\n",
        "average_accuracy = sum(accuracies) / len(accuracies)\n",
        "average_f1_score = sum(f1_scores) / len(f1_scores)\n",
        "\n",
        "print(\"Average Recall:\", average_recall)\n",
        "print(\"Average Precision:\", average_precision)\n",
        "print(\"Average Accuracy:\", average_accuracy)\n",
        "print(\"Average F1-score:\", average_f1_score)\n",
        "\n",
        "model_performance = {\n",
        "    'Modello': 'KNN df originale',\n",
        "    'Recall': average_recall,\n",
        "    'Precision': average_precision,\n",
        "    'Accuracy': average_accuracy,\n",
        "    'F1-score': average_f1_score\n",
        "}\n",
        "\n",
        "df_performance = df_performance.append(model_performance, ignore_index=True)\n"
      ]
    },
    {
      "cell_type": "markdown",
      "metadata": {
        "id": "X1GQ4WssqDPD"
      },
      "source": [
        "####**KNN con undersampling del dataframe**"
      ]
    },
    {
      "cell_type": "code",
      "execution_count": 61,
      "metadata": {
        "colab": {
          "base_uri": "https://localhost:8080/"
        },
        "id": "oAV8F5O1bLJN",
        "outputId": "967fa065-5132-4f96-dc0f-f1e51beec465"
      },
      "outputs": [
        {
          "output_type": "stream",
          "name": "stdout",
          "text": [
            "Parametri ottimali: {'n_neighbors': 3, 'weights': 'uniform'}\n",
            "Average Recall: 0.7767962579556781\n",
            "Average Precision: 0.7489302345570664\n",
            "Average Accuracy: 0.7578928138761225\n",
            "Average F1-score: 0.7622142295875178\n"
          ]
        }
      ],
      "source": [
        "# Definizione il numero di fold per la cross-validation\n",
        "k_folds = 10\n",
        "\n",
        "# Inizializzare una lista\n",
        "recalls = []\n",
        "precisions = []\n",
        "accuracies = []\n",
        "f1_scores = []\n",
        "\n",
        "# Creare il classificatore k-NN\n",
        "knn_classifier = KNeighborsClassifier()\n",
        "\n",
        "# Definire i parametri da testare con GridSearchCV\n",
        "param_grid = {\n",
        "    'n_neighbors': [1, 3, 5, 7, 9, 11, 13, 15, 17, 19, 21, 23],\n",
        "    'weights': ['uniform', 'distance'],\n",
        "}\n",
        "\n",
        "# Definire le metriche da utilizzare per la valutazione\n",
        "scoring = {\n",
        "    'recall': make_scorer(recall_score),\n",
        "    'precision': make_scorer(precision_score),\n",
        "    'accuracy': make_scorer(accuracy_score),\n",
        "    'f1_score': make_scorer(f1_score)\n",
        "}\n",
        "\n",
        "# Creare l'oggetto StratifiedKFold per la k-fold cross-validation\n",
        "stratified_kfold = StratifiedKFold(n_splits=k_folds, shuffle=True, random_state=42)\n",
        "\n",
        "# Applica l'undersampling\n",
        "undersampler = RandomUnderSampler(random_state=42)\n",
        "X_resampled, y_resampled = undersampler.fit_resample(X, y)\n",
        "\n",
        "# Creare l'oggetto GridSearchCV\n",
        "grid_search = GridSearchCV(knn_classifier, param_grid, scoring=scoring, refit='precision', cv=stratified_kfold)\n",
        "\n",
        "# Effettuare la ricerca dei parametri ottimali utilizzando GridSearchCV\n",
        "grid_search.fit(X_resampled, y_resampled)\n",
        "\n",
        "# Visualizzare i parametri ottimali\n",
        "print(\"Parametri ottimali:\", grid_search.best_params_)\n",
        "\n",
        "\n",
        "# Effettuare la k-fold cross-validation con undersampling\n",
        "for train_index, test_index in stratified_kfold.split(X_resampled, y_resampled):\n",
        "    X_train, X_test = X_resampled.iloc[train_index], X_resampled.iloc[test_index]\n",
        "    y_train, y_test = y_resampled.iloc[train_index], y_resampled.iloc[test_index]\n",
        "\n",
        "    # Ottenere il miglior modello con i parametri ottimali\n",
        "    best_knn_classifier = grid_search.best_estimator_\n",
        "\n",
        "    # Effettuare le previsioni sul set di test\n",
        "    y_pred = best_knn_classifier.predict(X_test)\n",
        "\n",
        "    # Calcolo metriche di valutazione\n",
        "    recall = recall_score(y_test, y_pred)\n",
        "    precision = precision_score(y_test, y_pred)\n",
        "    accuracy = accuracy_score(y_test, y_pred)\n",
        "    f1 = f1_score(y_test, y_pred)\n",
        "\n",
        "    recalls.append(recall)\n",
        "    precisions.append(precision)\n",
        "    accuracies.append(accuracy)\n",
        "    f1_scores.append(f1)\n",
        "\n",
        "\n",
        "# Calcolare la media delle performance di tutti i fold\n",
        "average_recall = sum(recalls) / len(recalls)\n",
        "average_precision = sum(precisions) / len(precisions)\n",
        "average_accuracy = sum(accuracies) / len(accuracies)\n",
        "average_f1_score = sum(f1_scores) / len(f1_scores)\n",
        "\n",
        "print(\"Average Recall:\", average_recall)\n",
        "print(\"Average Precision:\", average_precision)\n",
        "print(\"Average Accuracy:\", average_accuracy)\n",
        "print(\"Average F1-score:\", average_f1_score)\n",
        "\n",
        "model_performance = {\n",
        "    'Modello': 'KNN df undersampled',\n",
        "    'Recall': average_recall,\n",
        "    'Precision': average_precision,\n",
        "    'Accuracy': average_accuracy,\n",
        "    'F1-score': average_f1_score\n",
        "}\n",
        "\n",
        "df_performance = df_performance.append(model_performance, ignore_index=True)\n"
      ]
    },
    {
      "cell_type": "markdown",
      "metadata": {
        "id": "jJzA6cYoqwuC"
      },
      "source": [
        "####**KNN con oversampling del dataframe**"
      ]
    },
    {
      "cell_type": "code",
      "execution_count": 62,
      "metadata": {
        "colab": {
          "base_uri": "https://localhost:8080/"
        },
        "id": "bxfmLSVfq1A4",
        "outputId": "f3125f57-a9ba-4ccc-ecb4-0ea085ef9b25"
      },
      "outputs": [
        {
          "output_type": "stream",
          "name": "stdout",
          "text": [
            "Parametri ottimali: {'n_neighbors': 9, 'weights': 'distance'}\n",
            "Average Recall: 1.0\n",
            "Average Precision: 1.0\n",
            "Average Accuracy: 1.0\n",
            "Average F1-score: 1.0\n"
          ]
        }
      ],
      "source": [
        "# Definizione il numero di fold per la cross-validation\n",
        "k_folds = 10\n",
        "\n",
        "# Inizializzare una lista\n",
        "recalls = []\n",
        "precisions = []\n",
        "accuracies = []\n",
        "f1_scores = []\n",
        "\n",
        "# Creare il classificatore k-NN\n",
        "knn_classifier = KNeighborsClassifier()\n",
        "\n",
        "# Definire i parametri da testare con GridSearchCV\n",
        "param_grid = {\n",
        "    'n_neighbors': [1, 3, 5, 7, 9, 11, 13, 15, 17, 19, 21, 23],\n",
        "    'weights': ['uniform', 'distance'],\n",
        "}\n",
        "\n",
        "# Definire le metriche da utilizzare per la valutazione\n",
        "scoring = {\n",
        "    'recall': make_scorer(recall_score),\n",
        "    'precision': make_scorer(precision_score),\n",
        "    'accuracy': make_scorer(accuracy_score),\n",
        "    'f1_score': make_scorer(f1_score)\n",
        "}\n",
        "\n",
        "# Creare l'oggetto StratifiedKFold per la k-fold cross-validation\n",
        "stratified_kfold = StratifiedKFold(n_splits=k_folds, shuffle=True, random_state=42)\n",
        "\n",
        "# Applica l'oversampling\n",
        "oversampler = RandomOverSampler(random_state=42)\n",
        "X_resampled, y_resampled = oversampler.fit_resample(X, y)\n",
        "\n",
        "# Creare l'oggetto GridSearchCV\n",
        "grid_search = GridSearchCV(knn_classifier, param_grid, scoring=scoring, refit='precision', cv=stratified_kfold)\n",
        "\n",
        "# Effettuare la ricerca dei parametri ottimali utilizzando GridSearchCV\n",
        "grid_search.fit(X_resampled, y_resampled)\n",
        "\n",
        "# Visualizzare i parametri ottimali\n",
        "print(\"Parametri ottimali:\", grid_search.best_params_)\n",
        "\n",
        "\n",
        "# Effettuare la k-fold cross-validation con oversampling\n",
        "for train_index, test_index in stratified_kfold.split(X_resampled, y_resampled):\n",
        "    X_train, X_test = X_resampled.iloc[train_index], X_resampled.iloc[test_index]\n",
        "    y_train, y_test = y_resampled.iloc[train_index], y_resampled.iloc[test_index]\n",
        "\n",
        "    # Ottenere il miglior modello con i parametri ottimali\n",
        "    best_knn_classifier = grid_search.best_estimator_\n",
        "\n",
        "    # Effettuare le previsioni sul set di test\n",
        "    y_pred = best_knn_classifier.predict(X_test)\n",
        "\n",
        "    # Calcolo metriche di valutazione\n",
        "    recall = recall_score(y_test, y_pred)\n",
        "    precision = precision_score(y_test, y_pred)\n",
        "    accuracy = accuracy_score(y_test, y_pred)\n",
        "    f1 = f1_score(y_test, y_pred)\n",
        "\n",
        "    recalls.append(recall)\n",
        "    precisions.append(precision)\n",
        "    accuracies.append(accuracy)\n",
        "    f1_scores.append(f1)\n",
        "\n",
        "\n",
        "# Calcolare la media delle performance di tutti i fold\n",
        "average_recall = sum(recalls) / len(recalls)\n",
        "average_precision = sum(precisions) / len(precisions)\n",
        "average_accuracy = sum(accuracies) / len(accuracies)\n",
        "average_f1_score = sum(f1_scores) / len(f1_scores)\n",
        "\n",
        "print(\"Average Recall:\", average_recall)\n",
        "print(\"Average Precision:\", average_precision)\n",
        "print(\"Average Accuracy:\", average_accuracy)\n",
        "print(\"Average F1-score:\", average_f1_score)\n",
        "\n",
        "model_performance = {\n",
        "    'Modello': 'KNN df oversampled',\n",
        "    'Recall': average_recall,\n",
        "    'Precision': average_precision,\n",
        "    'Accuracy': average_accuracy,\n",
        "    'F1-score': average_f1_score\n",
        "}\n",
        "\n",
        "df_performance = df_performance.append(model_performance, ignore_index=True)"
      ]
    },
    {
      "cell_type": "markdown",
      "metadata": {
        "id": "5Oeb2fii3dqX"
      },
      "source": [
        "###**SVM**"
      ]
    },
    {
      "cell_type": "markdown",
      "metadata": {
        "id": "yrD4An30u3Of"
      },
      "source": [
        "####**SVM con dataframe originale**"
      ]
    },
    {
      "cell_type": "code",
      "execution_count": null,
      "metadata": {
        "id": "AR715my3u8Y3",
        "colab": {
          "base_uri": "https://localhost:8080/"
        },
        "outputId": "9c2a49e5-c655-4fa3-8ee8-98dbde304c45"
      },
      "outputs": [
        {
          "output_type": "stream",
          "name": "stdout",
          "text": [
            "Parametri ottimali: {'C': 0.1, 'gamma': 'scale', 'kernel': 'rbf'}\n",
            "Average Recall: 1.0\n",
            "Average Precision: 0.622159734362459\n",
            "Average Accuracy: 0.622159734362459\n",
            "Average F1-score: 0.7670752808866291\n"
          ]
        }
      ],
      "source": [
        "# Definizione il numero di fold per la cross-validation\n",
        "k_folds = 10\n",
        "\n",
        "# Inizializzare una lista\n",
        "recalls = []\n",
        "precisions = []\n",
        "accuracies = []\n",
        "f1_scores = []\n",
        "\n",
        "# Creare il classificatore SVM\n",
        "svm_classifier = SVC()\n",
        "\n",
        "# Definire i parametri da testare con GridSearchCV\n",
        "param_grid = {\n",
        "    'kernel': ['rbf'],\n",
        "    'C': [0.1, 1, 5, 10],\n",
        "    'gamma': ['scale', 'auto']\n",
        "}\n",
        "\n",
        "# Definire le metriche da utilizzare per la valutazione\n",
        "scoring = {\n",
        "    'recall': make_scorer(recall_score),\n",
        "    'precision': make_scorer(precision_score),\n",
        "    'accuracy': make_scorer(accuracy_score),\n",
        "    'f1_score': make_scorer(f1_score)\n",
        "}\n",
        "\n",
        "# Creare l'oggetto StratifiedKFold per la k-fold cross-validation\n",
        "stratified_kfold = StratifiedKFold(n_splits=k_folds, shuffle=True, random_state=42)\n",
        "\n",
        "# Creare l'oggetto GridSearchCV\n",
        "grid_search = GridSearchCV(svm_classifier, param_grid, scoring=scoring, refit='precision', cv=stratified_kfold)\n",
        "\n",
        "# Effettuare la ricerca dei parametri ottimali utilizzando GridSearchCV\n",
        "grid_search.fit(X, y)\n",
        "\n",
        "# Visualizzare i parametri ottimali\n",
        "print(\"Parametri ottimali:\", grid_search.best_params_)\n",
        "\n",
        "# Effettuare la k-fold cross-validation\n",
        "for train_index, test_index in stratified_kfold.split(X, y):\n",
        "    X_train, X_test = X.iloc[train_index], X.iloc[test_index]\n",
        "    y_train, y_test = y.iloc[train_index], y.iloc[test_index]\n",
        "\n",
        "    # Ottenere il miglior modello con i parametri ottimali\n",
        "    best_svm_classifier = grid_search.best_estimator_\n",
        "\n",
        "    # Effettuare le previsioni sul set di test\n",
        "    y_pred = best_svm_classifier.predict(X_test)\n",
        "\n",
        "    # Calcolo metriche di valutazione\n",
        "    recall = recall_score(y_test, y_pred)\n",
        "    precision = precision_score(y_test, y_pred)\n",
        "    accuracy = accuracy_score(y_test, y_pred)\n",
        "    f1 = f1_score(y_test, y_pred)\n",
        "\n",
        "    recalls.append(recall)\n",
        "    precisions.append(precision)\n",
        "    accuracies.append(accuracy)\n",
        "    f1_scores.append(f1)\n",
        "\n",
        "\n",
        "# Calcolare la media delle performance di tutti i fold\n",
        "average_recall = sum(recalls) / len(recalls)\n",
        "average_precision = sum(precisions) / len(precisions)\n",
        "average_accuracy = sum(accuracies) / len(accuracies)\n",
        "average_f1_score = sum(f1_scores) / len(f1_scores)\n",
        "\n",
        "print(\"Average Recall:\", average_recall)\n",
        "print(\"Average Precision:\", average_precision)\n",
        "print(\"Average Accuracy:\", average_accuracy)\n",
        "print(\"Average F1-score:\", average_f1_score)\n",
        "\n",
        "model_performance = {\n",
        "    'Modello': 'SVM df originale',\n",
        "    'Recall': average_recall,\n",
        "    'Precision': average_precision,\n",
        "    'Accuracy': average_accuracy,\n",
        "    'F1-score': average_f1_score\n",
        "}\n",
        "\n",
        "df_performance = df_performance.append(model_performance, ignore_index=True)\n"
      ]
    },
    {
      "cell_type": "markdown",
      "metadata": {
        "id": "xdoGMV2A2h1C"
      },
      "source": [
        "####**SVM con undersampling del dataframe**"
      ]
    },
    {
      "cell_type": "code",
      "execution_count": null,
      "metadata": {
        "id": "nDS3vNS72h1J",
        "colab": {
          "base_uri": "https://localhost:8080/"
        },
        "outputId": "187d975f-fcd1-4ee2-bb82-76f78aecfde7"
      },
      "outputs": [
        {
          "output_type": "stream",
          "name": "stdout",
          "text": [
            "Parametri ottimali: {'C': 5, 'gamma': 'scale', 'kernel': 'rbf'}\n",
            "Average Recall: 0.6962081128747796\n",
            "Average Precision: 0.5465006499547435\n",
            "Average Accuracy: 0.5592061996423283\n",
            "Average F1-score: 0.6119510452586107\n"
          ]
        }
      ],
      "source": [
        "# Definizione il numero di fold per la cross-validation\n",
        "k_folds = 10\n",
        "\n",
        "# Inizializzare una lista\n",
        "recalls = []\n",
        "precisions = []\n",
        "accuracies = []\n",
        "f1_scores = []\n",
        "\n",
        "# Creare il classificatore SVM\n",
        "svm_classifier = SVC()\n",
        "\n",
        "# Definire i parametri da testare con GridSearchCV\n",
        "param_grid = {\n",
        "    'kernel': ['rbf'],\n",
        "    'C': [0.1, 1, 5, 10],\n",
        "    'gamma': ['scale', 'auto']\n",
        "}\n",
        "\n",
        "# Definire le metriche da utilizzare per la valutazione\n",
        "scoring = {\n",
        "    'recall': make_scorer(recall_score),\n",
        "    'precision': make_scorer(precision_score),\n",
        "    'accuracy': make_scorer(accuracy_score),\n",
        "    'f1_score': make_scorer(f1_score)\n",
        "}\n",
        "\n",
        "# Creare l'oggetto StratifiedKFold per la k-fold cross-validation\n",
        "stratified_kfold = StratifiedKFold(n_splits=k_folds, shuffle=True, random_state=42)\n",
        "\n",
        "# Applica l'undersampling\n",
        "undersampler = RandomUnderSampler(random_state=42)\n",
        "X_resampled, y_resampled = undersampler.fit_resample(X, y)\n",
        "\n",
        "# Creare l'oggetto GridSearchCV\n",
        "grid_search = GridSearchCV(svm_classifier, param_grid, scoring=scoring, refit='precision', cv=stratified_kfold)\n",
        "\n",
        "# Effettuare la ricerca dei parametri ottimali utilizzando GridSearchCV\n",
        "grid_search.fit(X_resampled, y_resampled)\n",
        "\n",
        "# Visualizzare i parametri ottimali\n",
        "print(\"Parametri ottimali:\", grid_search.best_params_)\n",
        "\n",
        "# Effettuare la k-fold cross-validation con undersampling\n",
        "for train_index, test_index in stratified_kfold.split(X_resampled, y_resampled):\n",
        "    X_train, X_test = X_resampled.iloc[train_index], X_resampled.iloc[test_index]\n",
        "    y_train, y_test = y_resampled.iloc[train_index], y_resampled.iloc[test_index]\n",
        "\n",
        "    # Ottenere il miglior modello con i parametri ottimali\n",
        "    best_svm_classifier = grid_search.best_estimator_\n",
        "\n",
        "    # Effettuare le previsioni sul set di test\n",
        "    y_pred = best_svm_classifier.predict(X_test)\n",
        "\n",
        "    # Calcolo metriche di valutazione\n",
        "    recall = recall_score(y_test, y_pred)\n",
        "    precision = precision_score(y_test, y_pred)\n",
        "    accuracy = accuracy_score(y_test, y_pred)\n",
        "    f1 = f1_score(y_test, y_pred)\n",
        "\n",
        "    recalls.append(recall)\n",
        "    precisions.append(precision)\n",
        "    accuracies.append(accuracy)\n",
        "    f1_scores.append(f1)\n",
        "\n",
        "\n",
        "# Calcolare la media delle performance di tutti i fold\n",
        "average_recall = sum(recalls) / len(recalls)\n",
        "average_precision = sum(precisions) / len(precisions)\n",
        "average_accuracy = sum(accuracies) / len(accuracies)\n",
        "average_f1_score = sum(f1_scores) / len(f1_scores)\n",
        "\n",
        "print(\"Average Recall:\", average_recall)\n",
        "print(\"Average Precision:\", average_precision)\n",
        "print(\"Average Accuracy:\", average_accuracy)\n",
        "print(\"Average F1-score:\", average_f1_score)\n",
        "\n",
        "model_performance = {\n",
        "    'Modello': 'SVM df undersampled',\n",
        "    'Recall': average_recall,\n",
        "    'Precision': average_precision,\n",
        "    'Accuracy': average_accuracy,\n",
        "    'F1-score': average_f1_score\n",
        "}\n",
        "\n",
        "df_performance = df_performance.append(model_performance, ignore_index=True)\n"
      ]
    },
    {
      "cell_type": "markdown",
      "metadata": {
        "id": "6uoeNfTr3EHA"
      },
      "source": [
        "####**SVM con oversampling del dataframe**"
      ]
    },
    {
      "cell_type": "code",
      "execution_count": null,
      "metadata": {
        "id": "EI4eu_mC3EHY",
        "colab": {
          "base_uri": "https://localhost:8080/"
        },
        "outputId": "40b97f90-35ac-46e8-de7c-5cdc77ebc62d"
      },
      "outputs": [
        {
          "output_type": "stream",
          "name": "stdout",
          "text": [
            "Parametri ottimali: {'C': 1, 'gamma': 'auto', 'kernel': 'rbf'}\n",
            "Average Recall: 1.0\n",
            "Average Precision: 1.0\n",
            "Average Accuracy: 1.0\n",
            "Average F1-score: 1.0\n"
          ]
        }
      ],
      "source": [
        "# Definizione il numero di fold per la cross-validation\n",
        "k_folds = 10\n",
        "\n",
        "# Inizializzare una lista\n",
        "recalls = []\n",
        "precisions = []\n",
        "accuracies = []\n",
        "f1_scores = []\n",
        "\n",
        "# Creare il classificatore SVM\n",
        "svm_classifier = SVC()\n",
        "\n",
        "# Definire i parametri da testare con GridSearchCV\n",
        "param_grid = {\n",
        "    'kernel': ['rbf'],\n",
        "    'C': [0.1, 1, 5, 10],\n",
        "    'gamma': ['scale', 'auto']\n",
        "}\n",
        "\n",
        "# Definire le metriche da utilizzare per la valutazione\n",
        "scoring = {\n",
        "    'recall': make_scorer(recall_score),\n",
        "    'precision': make_scorer(precision_score),\n",
        "    'accuracy': make_scorer(accuracy_score),\n",
        "    'f1_score': make_scorer(f1_score)\n",
        "}\n",
        "\n",
        "# Creare l'oggetto StratifiedKFold per la k-fold cross-validation\n",
        "stratified_kfold = StratifiedKFold(n_splits=k_folds, shuffle=True, random_state=42)\n",
        "\n",
        "# Applica l'oversampling\n",
        "oversampler = RandomOverSampler(random_state=42)\n",
        "X_resampled, y_resampled = oversampler.fit_resample(X, y)\n",
        "\n",
        "# Creare l'oggetto GridSearchCV\n",
        "grid_search = GridSearchCV(svm_classifier, param_grid, scoring=scoring, refit='precision', cv=stratified_kfold)\n",
        "\n",
        "# Effettuare la ricerca dei parametri ottimali utilizzando GridSearchCV\n",
        "grid_search.fit(X_resampled, y_resampled)\n",
        "\n",
        "# Visualizzare i parametri ottimali\n",
        "print(\"Parametri ottimali:\", grid_search.best_params_)\n",
        "\n",
        "\n",
        "# Effettuare la k-fold cross-validation con oversampling\n",
        "for train_index, test_index in stratified_kfold.split(X_resampled, y_resampled):\n",
        "    X_train, X_test = X_resampled.iloc[train_index], X_resampled.iloc[test_index]\n",
        "    y_train, y_test = y_resampled.iloc[train_index], y_resampled.iloc[test_index]\n",
        "\n",
        "    # Ottenere il miglior modello con i parametri ottimali\n",
        "    best_svm_classifier = grid_search.best_estimator_\n",
        "\n",
        "    # Effettuare le previsioni sul set di test\n",
        "    y_pred = best_svm_classifier.predict(X_test)\n",
        "\n",
        "    # Calcolo metriche di valutazione\n",
        "    recall = recall_score(y_test, y_pred)\n",
        "    precision = precision_score(y_test, y_pred)\n",
        "    accuracy = accuracy_score(y_test, y_pred)\n",
        "    f1 = f1_score(y_test, y_pred)\n",
        "\n",
        "    recalls.append(recall)\n",
        "    precisions.append(precision)\n",
        "    accuracies.append(accuracy)\n",
        "    f1_scores.append(f1)\n",
        "\n",
        "\n",
        "# Calcolare la media delle performance di tutti i fold\n",
        "average_recall = sum(recalls) / len(recalls)\n",
        "average_precision = sum(precisions) / len(precisions)\n",
        "average_accuracy = sum(accuracies) / len(accuracies)\n",
        "average_f1_score = sum(f1_scores) / len(f1_scores)\n",
        "\n",
        "print(\"Average Recall:\", average_recall)\n",
        "print(\"Average Precision:\", average_precision)\n",
        "print(\"Average Accuracy:\", average_accuracy)\n",
        "print(\"Average F1-score:\", average_f1_score)\n",
        "\n",
        "model_performance = {\n",
        "    'Modello': 'SVM df oversampled',\n",
        "    'Recall': average_recall,\n",
        "    'Precision': average_precision,\n",
        "    'Accuracy': average_accuracy,\n",
        "    'F1-score': average_f1_score\n",
        "}\n",
        "\n",
        "df_performance = df_performance.append(model_performance, ignore_index=True)\n"
      ]
    },
    {
      "cell_type": "markdown",
      "metadata": {
        "id": "BFC3C3_j4oSu"
      },
      "source": [
        "###**Random Forest**"
      ]
    },
    {
      "cell_type": "markdown",
      "metadata": {
        "id": "e3A3GPxr4tQr"
      },
      "source": [
        "####**Random forest con dataframe originale**"
      ]
    },
    {
      "cell_type": "code",
      "execution_count": null,
      "metadata": {
        "colab": {
          "base_uri": "https://localhost:8080/"
        },
        "id": "vjuw2ayk40Ij",
        "outputId": "153fded3-23eb-4aef-95f9-7302f2edc72f"
      },
      "outputs": [
        {
          "output_type": "stream",
          "name": "stdout",
          "text": [
            "Parametri ottimali: {'max_depth': 5, 'min_samples_leaf': 1, 'min_samples_split': 5, 'n_estimators': 50}\n",
            "Average Recall: 0.9597134345297205\n",
            "Average Precision: 0.9945560621542139\n",
            "Average Accuracy: 0.9716523182812724\n",
            "Average F1-score: 0.976788449747706\n"
          ]
        }
      ],
      "source": [
        "# Definizione il numero di fold per la cross-validation\n",
        "k_folds = 10\n",
        "\n",
        "# Inizializzare una lista\n",
        "recalls = []\n",
        "precisions = []\n",
        "accuracies = []\n",
        "f1_scores = []\n",
        "\n",
        "# Creare il classificatore Random Forest\n",
        "rf_classifier = RandomForestClassifier(random_state=42)\n",
        "\n",
        "# Definire i parametri da testare con GridSearchCV\n",
        "param_grid = {\n",
        "    'n_estimators': [50, 100, 200],\n",
        "    'max_depth': [None, 1, 5, 10],\n",
        "    'min_samples_split': [2, 5, 10],\n",
        "    'min_samples_leaf': [1, 2, 4]\n",
        "}\n",
        "\n",
        "# Definire le metriche da utilizzare per la valutazione\n",
        "scoring = {\n",
        "    'recall': make_scorer(recall_score),\n",
        "    'precision': make_scorer(precision_score),\n",
        "    'accuracy': make_scorer(accuracy_score),\n",
        "    'f1_score': make_scorer(f1_score)\n",
        "}\n",
        "\n",
        "# Creare l'oggetto StratifiedKFold per la k-fold cross-validation\n",
        "stratified_kfold = StratifiedKFold(n_splits=k_folds, shuffle=True, random_state=42)\n",
        "\n",
        "# Creare l'oggetto GridSearchCV\n",
        "grid_search = GridSearchCV(rf_classifier, param_grid, scoring=scoring, refit='precision', cv=stratified_kfold)\n",
        "\n",
        "# Effettuare la ricerca dei parametri ottimali utilizzando GridSearchCV\n",
        "grid_search.fit(X, y)\n",
        "\n",
        "# Visualizzare i parametri ottimali\n",
        "print(\"Parametri ottimali:\", grid_search.best_params_)\n",
        "\n",
        "# Effettuare la k-fold cross-validation\n",
        "for train_index, test_index in stratified_kfold.split(X, y):\n",
        "    X_train, X_test = X.iloc[train_index], X.iloc[test_index]\n",
        "    y_train, y_test = y.iloc[train_index], y.iloc[test_index]\n",
        "\n",
        "    # Ottenere il miglior modello con i parametri ottimali\n",
        "    best_rf_classifier = grid_search.best_estimator_\n",
        "\n",
        "    # Effettuare le previsioni sul set di test\n",
        "    y_pred = best_rf_classifier.predict(X_test)\n",
        "\n",
        "    # Calcolo metriche di valutazione\n",
        "    recall = recall_score(y_test, y_pred)\n",
        "    precision = precision_score(y_test, y_pred)\n",
        "    accuracy = accuracy_score(y_test, y_pred)\n",
        "    f1 = f1_score(y_test, y_pred)\n",
        "\n",
        "    recalls.append(recall)\n",
        "    precisions.append(precision)\n",
        "    accuracies.append(accuracy)\n",
        "    f1_scores.append(f1)\n",
        "\n",
        "\n",
        "# Calcolare la media delle performance di tutti i fold\n",
        "average_recall = sum(recalls) / len(recalls)\n",
        "average_precision = sum(precisions) / len(precisions)\n",
        "average_accuracy = sum(accuracies) / len(accuracies)\n",
        "average_f1_score = sum(f1_scores) / len(f1_scores)\n",
        "\n",
        "print(\"Average Recall:\", average_recall)\n",
        "print(\"Average Precision:\", average_precision)\n",
        "print(\"Average Accuracy:\", average_accuracy)\n",
        "print(\"Average F1-score:\", average_f1_score)\n",
        "\n",
        "model_performance = {\n",
        "    'Modello': 'RF df originale',\n",
        "    'Recall': average_recall,\n",
        "    'Precision': average_precision,\n",
        "    'Accuracy': average_accuracy,\n",
        "    'F1-score': average_f1_score\n",
        "}\n",
        "\n",
        "df_performance = df_performance.append(model_performance, ignore_index=True)\n"
      ]
    },
    {
      "cell_type": "markdown",
      "metadata": {
        "id": "j6jy0TXg7MWn"
      },
      "source": [
        "####**Random forest con undersampling del dataframe**"
      ]
    },
    {
      "cell_type": "code",
      "execution_count": null,
      "metadata": {
        "colab": {
          "base_uri": "https://localhost:8080/"
        },
        "id": "cTu9HOfr7LC_",
        "outputId": "521f821c-bf0b-41dc-966d-e926c5f12fa1"
      },
      "outputs": [
        {
          "output_type": "stream",
          "name": "stdout",
          "text": [
            "Parametri ottimali: {'max_depth': 5, 'min_samples_leaf': 1, 'min_samples_split': 2, 'n_estimators': 50}\n",
            "Average Recall: 0.9522812667740205\n",
            "Average Precision: 0.9929741296455905\n",
            "Average Accuracy: 0.9727208045689671\n",
            "Average F1-score: 0.972112109081184\n"
          ]
        }
      ],
      "source": [
        "# Definizione il numero di fold per la cross-validation\n",
        "k_folds = 10\n",
        "\n",
        "# Inizializzare una lista\n",
        "recalls = []\n",
        "precisions = []\n",
        "accuracies = []\n",
        "f1_scores = []\n",
        "\n",
        "# Creare il classificatore Random Forest\n",
        "rf_classifier = RandomForestClassifier(random_state=42)\n",
        "\n",
        "# Definire i parametri da testare con GridSearchCV\n",
        "param_grid = {\n",
        "    'n_estimators': [50, 100, 200],\n",
        "    'max_depth': [None, 1, 5, 10],\n",
        "    'min_samples_split': [2, 5, 10],\n",
        "    'min_samples_leaf': [1, 2, 4]\n",
        "}\n",
        "\n",
        "# Definire le metriche da utilizzare per la valutazione\n",
        "scoring = {\n",
        "    'recall': make_scorer(recall_score),\n",
        "    'precision': make_scorer(precision_score),\n",
        "    'accuracy': make_scorer(accuracy_score),\n",
        "    'f1_score': make_scorer(f1_score)\n",
        "}\n",
        "\n",
        "# Creare l'oggetto StratifiedKFold per la k-fold cross-validation\n",
        "stratified_kfold = StratifiedKFold(n_splits=k_folds, shuffle=True, random_state=42)\n",
        "\n",
        "# Applica l'undersampling\n",
        "undersampler = RandomUnderSampler(random_state=42)\n",
        "X_resampled, y_resampled = undersampler.fit_resample(X, y)\n",
        "\n",
        "# Creare l'oggetto GridSearchCV\n",
        "grid_search = GridSearchCV(rf_classifier, param_grid, scoring=scoring, refit='precision', cv=stratified_kfold)\n",
        "\n",
        "# Effettuare la ricerca dei parametri ottimali utilizzando GridSearchCV\n",
        "grid_search.fit(X_resampled, y_resampled)\n",
        "\n",
        "# Visualizzare i parametri ottimali\n",
        "print(\"Parametri ottimali:\", grid_search.best_params_)\n",
        "\n",
        "# Effettuare la k-fold cross-validation con undersampling\n",
        "for train_index, test_index in stratified_kfold.split(X_resampled, y_resampled):\n",
        "    X_train, X_test = X_resampled.iloc[train_index], X_resampled.iloc[test_index]\n",
        "    y_train, y_test = y_resampled.iloc[train_index], y_resampled.iloc[test_index]\n",
        "\n",
        "    # Ottenere il miglior modello con i parametri ottimali\n",
        "    best_rf_classifier = grid_search.best_estimator_\n",
        "\n",
        "    # Effettuare le previsioni sul set di test\n",
        "    y_pred = best_rf_classifier.predict(X_test)\n",
        "\n",
        "    # Calcolo metriche di valutazione\n",
        "    recall = recall_score(y_test, y_pred)\n",
        "    precision = precision_score(y_test, y_pred)\n",
        "    accuracy = accuracy_score(y_test, y_pred)\n",
        "    f1 = f1_score(y_test, y_pred)\n",
        "\n",
        "    recalls.append(recall)\n",
        "    precisions.append(precision)\n",
        "    accuracies.append(accuracy)\n",
        "    f1_scores.append(f1)\n",
        "\n",
        "\n",
        "# Calcolare la media delle performance di tutti i fold\n",
        "average_recall = sum(recalls) / len(recalls)\n",
        "average_precision = sum(precisions) / len(precisions)\n",
        "average_accuracy = sum(accuracies) / len(accuracies)\n",
        "average_f1_score = sum(f1_scores) / len(f1_scores)\n",
        "\n",
        "print(\"Average Recall:\", average_recall)\n",
        "print(\"Average Precision:\", average_precision)\n",
        "print(\"Average Accuracy:\", average_accuracy)\n",
        "print(\"Average F1-score:\", average_f1_score)\n",
        "\n",
        "model_performance = {\n",
        "    'Modello': 'RF df undersampled',\n",
        "    'Recall': average_recall,\n",
        "    'Precision': average_precision,\n",
        "    'Accuracy': average_accuracy,\n",
        "    'F1-score': average_f1_score\n",
        "}\n",
        "\n",
        "df_performance = df_performance.append(model_performance, ignore_index=True)\n"
      ]
    },
    {
      "cell_type": "markdown",
      "metadata": {
        "id": "SGpo8DHa78D9"
      },
      "source": [
        "####**Random forest con oversampling del dataframe**"
      ]
    },
    {
      "cell_type": "code",
      "execution_count": null,
      "metadata": {
        "colab": {
          "base_uri": "https://localhost:8080/"
        },
        "id": "ZyjY0i3278EW",
        "outputId": "f344ff4d-6fae-4f44-b63d-fd53a4c29fd7"
      },
      "outputs": [
        {
          "output_type": "stream",
          "name": "stdout",
          "text": [
            "Parametri ottimali: {'max_depth': 5, 'min_samples_leaf': 2, 'min_samples_split': 2, 'n_estimators': 200}\n",
            "Average Recall: 0.9461611576110085\n",
            "Average Precision: 0.9937139261958652\n",
            "Average Accuracy: 0.9700667629525791\n",
            "Average F1-score: 0.9692945026765905\n"
          ]
        }
      ],
      "source": [
        "# Definizione il numero di fold per la cross-validation\n",
        "k_folds = 10\n",
        "\n",
        "# Inizializzare una lista\n",
        "recalls = []\n",
        "precisions = []\n",
        "accuracies = []\n",
        "f1_scores = []\n",
        "\n",
        "# Creare il classificatore Random Forest\n",
        "rf_classifier = RandomForestClassifier(random_state=42)\n",
        "\n",
        "# Definire i parametri da testare con GridSearchCV\n",
        "param_grid = {\n",
        "    'n_estimators': [50, 100, 200],\n",
        "    'max_depth': [None, 1, 5, 10],\n",
        "    'min_samples_split': [2, 5, 10],\n",
        "    'min_samples_leaf': [1, 2, 4]\n",
        "}\n",
        "\n",
        "# Definire le metriche da utilizzare per la valutazione\n",
        "scoring = {\n",
        "    'recall': make_scorer(recall_score),\n",
        "    'precision': make_scorer(precision_score),\n",
        "    'accuracy': make_scorer(accuracy_score),\n",
        "    'f1_score': make_scorer(f1_score)\n",
        "}\n",
        "\n",
        "# Creare l'oggetto StratifiedKFold per la k-fold cross-validation\n",
        "stratified_kfold = StratifiedKFold(n_splits=k_folds, shuffle=True, random_state=42)\n",
        "\n",
        "# Applica l'oversampling\n",
        "oversampler = RandomOverSampler(random_state=42)\n",
        "X_resampled, y_resampled = oversampler.fit_resample(X, y)\n",
        "\n",
        "# Creare l'oggetto GridSearchCV\n",
        "grid_search = GridSearchCV(rf_classifier, param_grid, scoring=scoring, refit='precision', cv=stratified_kfold)\n",
        "\n",
        "# Effettuare la ricerca dei parametri ottimali utilizzando GridSearchCV\n",
        "grid_search.fit(X_resampled, y_resampled)\n",
        "\n",
        "# Visualizzare i parametri ottimali\n",
        "print(\"Parametri ottimali:\", grid_search.best_params_)\n",
        "\n",
        "# Effettuare la k-fold cross-validation con undersampling\n",
        "for train_index, test_index in stratified_kfold.split(X_resampled, y_resampled):\n",
        "    X_train, X_test = X_resampled.iloc[train_index], X_resampled.iloc[test_index]\n",
        "    y_train, y_test = y_resampled.iloc[train_index], y_resampled.iloc[test_index]\n",
        "\n",
        "\n",
        "    # Ottenere il miglior modello con i parametri ottimali\n",
        "    best_rf_classifier = grid_search.best_estimator_\n",
        "\n",
        "    # Effettuare le previsioni sul set di test\n",
        "    y_pred = best_rf_classifier.predict(X_test)\n",
        "\n",
        "    # Calcolo metriche di valutazione\n",
        "    recall = recall_score(y_test, y_pred)\n",
        "    precision = precision_score(y_test, y_pred)\n",
        "    accuracy = accuracy_score(y_test, y_pred)\n",
        "    f1 = f1_score(y_test, y_pred)\n",
        "\n",
        "    recalls.append(recall)\n",
        "    precisions.append(precision)\n",
        "    accuracies.append(accuracy)\n",
        "    f1_scores.append(f1)\n",
        "\n",
        "\n",
        "# Calcolare la media delle performance di tutti i fold\n",
        "average_recall = sum(recalls) / len(recalls)\n",
        "average_precision = sum(precisions) / len(precisions)\n",
        "average_accuracy = sum(accuracies) / len(accuracies)\n",
        "average_f1_score = sum(f1_scores) / len(f1_scores)\n",
        "\n",
        "print(\"Average Recall:\", average_recall)\n",
        "print(\"Average Precision:\", average_precision)\n",
        "print(\"Average Accuracy:\", average_accuracy)\n",
        "print(\"Average F1-score:\", average_f1_score)\n",
        "\n",
        "model_performance = {\n",
        "    'Modello': 'RF df oversampled',\n",
        "    'Recall': average_recall,\n",
        "    'Precision': average_precision,\n",
        "    'Accuracy': average_accuracy,\n",
        "    'F1-score': average_f1_score\n",
        "}\n",
        "\n",
        "df_performance = df_performance.append(model_performance, ignore_index=True)\n"
      ]
    },
    {
      "cell_type": "markdown",
      "metadata": {
        "id": "65pEgfQV8TPI"
      },
      "source": [
        "###**MLP**"
      ]
    },
    {
      "cell_type": "markdown",
      "metadata": {
        "id": "pyjwy4Ep8X2M"
      },
      "source": [
        "####**MLP con dataframe originale**"
      ]
    },
    {
      "cell_type": "code",
      "execution_count": null,
      "metadata": {
        "colab": {
          "base_uri": "https://localhost:8080/"
        },
        "id": "qHk9oNU-8eSk",
        "outputId": "e408cb55-4576-4477-ff1e-3d80a7405f0f"
      },
      "outputs": [
        {
          "output_type": "stream",
          "name": "stdout",
          "text": [
            "Parametri ottimali: {'activation': 'relu', 'alpha': 0.01, 'hidden_layer_sizes': (100,)}\n",
            "Average Recall: 0.4216910200028373\n",
            "Average Precision: 0.682286270263561\n",
            "Average Accuracy: 0.5179228375718794\n",
            "Average F1-score: 0.5208299485073952\n"
          ]
        }
      ],
      "source": [
        "# Definizione il numero di fold per la cross-validation\n",
        "k_folds = 10\n",
        "\n",
        "# Inizializzare una lista\n",
        "recalls = []\n",
        "precisions = []\n",
        "accuracies = []\n",
        "f1_scores = []\n",
        "\n",
        "# Creare il classificatore Multi-Layer Perceptron (MLP)\n",
        "mlp_classifier = MLPClassifier(random_state=42)\n",
        "\n",
        "# Definire i parametri da testare con GridSearchCV\n",
        "param_grid = {\n",
        "    'hidden_layer_sizes': [(10,), (50,), (100,)],\n",
        "    'activation': ['relu', 'tanh', 'logistic'],\n",
        "    'alpha': [0.0001, 0.001, 0.01]\n",
        "}\n",
        "\n",
        "# Definire le metriche da utilizzare per la valutazione\n",
        "scoring = {\n",
        "    'recall': make_scorer(recall_score),\n",
        "    'precision': make_scorer(precision_score),\n",
        "    'accuracy': make_scorer(accuracy_score),\n",
        "    'f1_score': make_scorer(f1_score)\n",
        "}\n",
        "\n",
        "# Creare l'oggetto StratifiedKFold per la k-fold cross-validation\n",
        "stratified_kfold = StratifiedKFold(n_splits=k_folds, shuffle=True, random_state=42)\n",
        "\n",
        "# Creare l'oggetto GridSearchCV\n",
        "grid_search = GridSearchCV(mlp_classifier, param_grid, scoring=scoring, refit='precision', cv=stratified_kfold)\n",
        "\n",
        "# Effettuare la ricerca dei parametri ottimali utilizzando GridSearchCV\n",
        "grid_search.fit(X, y)\n",
        "\n",
        "# Visualizzare i parametri ottimali\n",
        "print(\"Parametri ottimali:\", grid_search.best_params_)\n",
        "\n",
        "# Effettuare la k-fold cross-validation\n",
        "for train_index, test_index in stratified_kfold.split(X, y):\n",
        "    X_train, X_test = X.iloc[train_index], X.iloc[test_index]\n",
        "    y_train, y_test = y.iloc[train_index], y.iloc[test_index]\n",
        "\n",
        "    # Ottenere il miglior modello con i parametri ottimali\n",
        "    best_mlp_classifier = grid_search.best_estimator_\n",
        "\n",
        "    # Effettuare le previsioni sul set di test\n",
        "    y_pred = best_mlp_classifier.predict(X_test)\n",
        "\n",
        "    # Calcolo metriche di valutazione\n",
        "    recall = recall_score(y_test, y_pred)\n",
        "    precision = precision_score(y_test, y_pred)\n",
        "    accuracy = accuracy_score(y_test, y_pred)\n",
        "    f1 = f1_score(y_test, y_pred)\n",
        "\n",
        "    recalls.append(recall)\n",
        "    precisions.append(precision)\n",
        "    accuracies.append(accuracy)\n",
        "    f1_scores.append(f1)\n",
        "\n",
        "\n",
        "# Calcolare la media delle performance di tutti i fold\n",
        "average_recall = sum(recalls) / len(recalls)\n",
        "average_precision = sum(precisions) / len(precisions)\n",
        "average_accuracy = sum(accuracies) / len(accuracies)\n",
        "average_f1_score = sum(f1_scores) / len(f1_scores)\n",
        "\n",
        "print(\"Average Recall:\", average_recall)\n",
        "print(\"Average Precision:\", average_precision)\n",
        "print(\"Average Accuracy:\", average_accuracy)\n",
        "print(\"Average F1-score:\", average_f1_score)\n",
        "\n",
        "model_performance = {\n",
        "    'Modello': 'MLP df originale',\n",
        "    'Recall': average_recall,\n",
        "    'Precision': average_precision,\n",
        "    'Accuracy': average_accuracy,\n",
        "    'F1-score': average_f1_score\n",
        "}\n",
        "\n",
        "df_performance = df_performance.append(model_performance, ignore_index=True)\n"
      ]
    },
    {
      "cell_type": "markdown",
      "metadata": {
        "id": "F1CPOdJSAFCh"
      },
      "source": [
        "####**MLP con undersampling del dataframe**"
      ]
    },
    {
      "cell_type": "code",
      "execution_count": null,
      "metadata": {
        "colab": {
          "base_uri": "https://localhost:8080/"
        },
        "id": "V84sC7O4AFvV",
        "outputId": "ca479842-f391-46b0-9366-4534a622fbc5"
      },
      "outputs": [
        {
          "output_type": "stream",
          "name": "stdout",
          "text": [
            "Parametri ottimali: {'activation': 'relu', 'alpha': 0.001, 'hidden_layer_sizes': (50,)}\n",
            "Average Recall: 0.013645425964266544\n",
            "Average Precision: 0.58\n",
            "Average Accuracy: 0.502483510566698\n",
            "Average F1-score: 0.026630780327518498\n"
          ]
        }
      ],
      "source": [
        "# Definizione il numero di fold per la cross-validation\n",
        "k_folds = 10\n",
        "\n",
        "# Inizializzare una lista\n",
        "recalls = []\n",
        "precisions = []\n",
        "accuracies = []\n",
        "f1_scores = []\n",
        "\n",
        "# Creare il classificatore Multi-Layer Perceptron (MLP)\n",
        "mlp_classifier = MLPClassifier(random_state=42)\n",
        "\n",
        "# Definire i parametri da testare con GridSearchCV\n",
        "param_grid = {\n",
        "    'hidden_layer_sizes': [(10,), (50,), (100,)],\n",
        "    'activation': ['relu', 'tanh', 'logistic'],\n",
        "    'alpha': [0.0001, 0.001, 0.01]\n",
        "}\n",
        "\n",
        "# Definire le metriche da utilizzare per la valutazione\n",
        "scoring = {\n",
        "    'recall': make_scorer(recall_score),\n",
        "    'precision': make_scorer(precision_score),\n",
        "    'accuracy': make_scorer(accuracy_score),\n",
        "    'f1_score': make_scorer(f1_score)\n",
        "}\n",
        "\n",
        "# Creare l'oggetto StratifiedKFold per la k-fold cross-validation\n",
        "stratified_kfold = StratifiedKFold(n_splits=k_folds, shuffle=True, random_state=42)\n",
        "\n",
        "# Applica l'undersampling\n",
        "undersampler = RandomUnderSampler(random_state=42)\n",
        "X_resampled, y_resampled = undersampler.fit_resample(X, y)\n",
        "\n",
        "# Creare l'oggetto GridSearchCV\n",
        "grid_search = GridSearchCV(mlp_classifier, param_grid, scoring=scoring, refit='precision', cv=stratified_kfold)\n",
        "\n",
        "# Effettuare la ricerca dei parametri ottimali utilizzando GridSearchCV\n",
        "grid_search.fit(X_resampled, y_resampled)\n",
        "\n",
        "# Visualizzare i parametri ottimali\n",
        "print(\"Parametri ottimali:\", grid_search.best_params_)\n",
        "\n",
        "# Effettuare la k-fold cross-validation con undersampling\n",
        "for train_index, test_index in stratified_kfold.split(X_resampled, y_resampled):\n",
        "    X_train, X_test = X_resampled.iloc[train_index], X_resampled.iloc[test_index]\n",
        "    y_train, y_test = y_resampled.iloc[train_index], y_resampled.iloc[test_index]\n",
        "\n",
        "    # Ottenere il miglior modello con i parametri ottimali\n",
        "    best_mlp_classifier = grid_search.best_estimator_\n",
        "\n",
        "    # Effettuare le previsioni sul set di test\n",
        "    y_pred = best_mlp_classifier.predict(X_test)\n",
        "\n",
        "    # Calcolo metriche di valutazione\n",
        "    recall = recall_score(y_test, y_pred)\n",
        "    precision = precision_score(y_test, y_pred)\n",
        "    accuracy = accuracy_score(y_test, y_pred)\n",
        "    f1 = f1_score(y_test, y_pred)\n",
        "\n",
        "    recalls.append(recall)\n",
        "    precisions.append(precision)\n",
        "    accuracies.append(accuracy)\n",
        "    f1_scores.append(f1)\n",
        "\n",
        "\n",
        "# Calcolare la media delle performance di tutti i fold\n",
        "average_recall = sum(recalls) / len(recalls)\n",
        "average_precision = sum(precisions) / len(precisions)\n",
        "average_accuracy = sum(accuracies) / len(accuracies)\n",
        "average_f1_score = sum(f1_scores) / len(f1_scores)\n",
        "\n",
        "print(\"Average Recall:\", average_recall)\n",
        "print(\"Average Precision:\", average_precision)\n",
        "print(\"Average Accuracy:\", average_accuracy)\n",
        "print(\"Average F1-score:\", average_f1_score)\n",
        "\n",
        "model_performance = {\n",
        "    'Modello': 'MLP df undersampled',\n",
        "    'Recall': average_recall,\n",
        "    'Precision': average_precision,\n",
        "    'Accuracy': average_accuracy,\n",
        "    'F1-score': average_f1_score\n",
        "}\n",
        "\n",
        "df_performance = df_performance.append(model_performance, ignore_index=True)\n"
      ]
    },
    {
      "cell_type": "markdown",
      "metadata": {
        "id": "UQbBy3iCAWDd"
      },
      "source": [
        "####**MLP con oversampling del dataframe**"
      ]
    },
    {
      "cell_type": "code",
      "execution_count": null,
      "metadata": {
        "colab": {
          "base_uri": "https://localhost:8080/"
        },
        "id": "E8RckgYYAa7p",
        "outputId": "638105ff-4f62-4024-c9bf-69d49a0745cc"
      },
      "outputs": [
        {
          "output_type": "stream",
          "name": "stdout",
          "text": [
            "Parametri ottimali: {'activation': 'relu', 'alpha': 0.01, 'hidden_layer_sizes': (50,)}\n",
            "Average Recall: 0.958218186976876\n",
            "Average Precision: 0.5060670749664364\n",
            "Average Accuracy: 0.5114842190221316\n",
            "Average F1-score: 0.6623239398793805\n"
          ]
        }
      ],
      "source": [
        "# Definizione il numero di fold per la cross-validation\n",
        "k_folds = 10\n",
        "\n",
        "# Inizializzare una lista\n",
        "recalls = []\n",
        "precisions = []\n",
        "accuracies = []\n",
        "f1_scores = []\n",
        "\n",
        "# Creare il classificatore Multi-Layer Perceptron (MLP)\n",
        "mlp_classifier = MLPClassifier(random_state=42)\n",
        "\n",
        "# Definire i parametri da testare con GridSearchCV\n",
        "param_grid = {\n",
        "    'hidden_layer_sizes': [(10,), (50,), (100,)],\n",
        "    'activation': ['relu', 'tanh', 'logistic'],\n",
        "    'alpha': [0.0001, 0.001, 0.01]\n",
        "}\n",
        "\n",
        "# Definire le metriche da utilizzare per la valutazione\n",
        "scoring = {\n",
        "    'recall': make_scorer(recall_score),\n",
        "    'precision': make_scorer(precision_score),\n",
        "    'accuracy': make_scorer(accuracy_score),\n",
        "    'f1_score': make_scorer(f1_score)\n",
        "}\n",
        "\n",
        "# Creare l'oggetto StratifiedKFold per la k-fold cross-validation\n",
        "stratified_kfold = StratifiedKFold(n_splits=k_folds, shuffle=True, random_state=42)\n",
        "\n",
        "# Applica l'oversampling\n",
        "oversampler = RandomOverSampler(random_state=42)\n",
        "X_resampled, y_resampled = oversampler.fit_resample(X, y)\n",
        "\n",
        "# Creare l'oggetto GridSearchCV\n",
        "grid_search = GridSearchCV(mlp_classifier, param_grid, scoring=scoring, refit='precision', cv=stratified_kfold)\n",
        "\n",
        "# Effettuare la ricerca dei parametri ottimali utilizzando GridSearchCV\n",
        "grid_search.fit(X_resampled, y_resampled)\n",
        "\n",
        "# Visualizzare i parametri ottimali\n",
        "print(\"Parametri ottimali:\", grid_search.best_params_)\n",
        "\n",
        "# Effettuare la k-fold cross-validation con undersampling\n",
        "for train_index, test_index in stratified_kfold.split(X_resampled, y_resampled):\n",
        "    X_train, X_test = X_resampled.iloc[train_index], X_resampled.iloc[test_index]\n",
        "    y_train, y_test = y_resampled.iloc[train_index], y_resampled.iloc[test_index]\n",
        "\n",
        "    # Ottenere il miglior modello con i parametri ottimali\n",
        "    best_mlp_classifier = grid_search.best_estimator_\n",
        "\n",
        "    # Effettuare le previsioni sul set di test\n",
        "    y_pred = best_mlp_classifier.predict(X_test)\n",
        "\n",
        "    # Calcolo metriche di valutazione\n",
        "    recall = recall_score(y_test, y_pred)\n",
        "    precision = precision_score(y_test, y_pred)\n",
        "    accuracy = accuracy_score(y_test, y_pred)\n",
        "    f1 = f1_score(y_test, y_pred)\n",
        "\n",
        "    recalls.append(recall)\n",
        "    precisions.append(precision)\n",
        "    accuracies.append(accuracy)\n",
        "    f1_scores.append(f1)\n",
        "\n",
        "\n",
        "# Calcolare la media delle performance di tutti i fold\n",
        "average_recall = sum(recalls) / len(recalls)\n",
        "average_precision = sum(precisions) / len(precisions)\n",
        "average_accuracy = sum(accuracies) / len(accuracies)\n",
        "average_f1_score = sum(f1_scores) / len(f1_scores)\n",
        "\n",
        "print(\"Average Recall:\", average_recall)\n",
        "print(\"Average Precision:\", average_precision)\n",
        "print(\"Average Accuracy:\", average_accuracy)\n",
        "print(\"Average F1-score:\", average_f1_score)\n",
        "\n",
        "model_performance = {\n",
        "    'Modello': 'MLP df oversampled',\n",
        "    'Recall': average_recall,\n",
        "    'Precision': average_precision,\n",
        "    'Accuracy': average_accuracy,\n",
        "    'F1-score': average_f1_score\n",
        "}\n",
        "\n",
        "df_performance = df_performance.append(model_performance, ignore_index=True)\n"
      ]
    },
    {
      "cell_type": "markdown",
      "metadata": {
        "id": "uiCrMct2upOf"
      },
      "source": [
        "###**Discussione risultati**"
      ]
    },
    {
      "cell_type": "code",
      "source": [
        "!pip install tabulate\n",
        "from tabulate import tabulate\n",
        "\n",
        "# Mostrare la tabella delle performance utilizzando tabulate\n",
        "print(tabulate(df_performance, headers='keys', tablefmt='psql'))\n"
      ],
      "metadata": {
        "colab": {
          "base_uri": "https://localhost:8080/"
        },
        "id": "GFki6dHnL78-",
        "outputId": "4c530886-78db-4c82-81b2-f7a3e69443d1"
      },
      "execution_count": null,
      "outputs": [
        {
          "output_type": "stream",
          "name": "stdout",
          "text": [
            "Requirement already satisfied: tabulate in /usr/local/lib/python3.10/dist-packages (0.9.0)\n",
            "+----+---------------------+-----------+-------------+------------+------------+\n",
            "|    | Modello             |    Recall |   Precision |   Accuracy |   F1-score |\n",
            "|----+---------------------+-----------+-------------+------------+------------|\n",
            "|  0 | KNN df originale    | 0.847516  |    0.732531 |   0.712347 |  0.785693  |\n",
            "|  1 | KNN df undersampled | 0.776796  |    0.74893  |   0.757893 |  0.762214  |\n",
            "|  2 | KNN df oversampled  | 1         |    1        |   1        |  1         |\n",
            "|  3 | SVM df originale    | 1         |    0.62216  |   0.62216  |  0.767075  |\n",
            "|  4 | SVM df undersampled | 0.696208  |    0.546501 |   0.559206 |  0.611951  |\n",
            "|  5 | SVM df oversampled  | 1         |    1        |   1        |  1         |\n",
            "|  6 | RF df originale     | 0.959713  |    0.994556 |   0.971652 |  0.976788  |\n",
            "|  7 | RF df undersampled  | 0.952281  |    0.992974 |   0.972721 |  0.972112  |\n",
            "|  8 | RF df oversampled   | 0.946161  |    0.993714 |   0.970067 |  0.969295  |\n",
            "|  9 | MLP df originale    | 0.421691  |    0.682286 |   0.517923 |  0.52083   |\n",
            "| 10 | MLP df undersampled | 0.0136454 |    0.58     |   0.502484 |  0.0266308 |\n",
            "| 11 | MLP df oversampled  | 0.958218  |    0.506067 |   0.511484 |  0.662324  |\n",
            "+----+---------------------+-----------+-------------+------------+------------+\n"
          ]
        }
      ]
    },
    {
      "cell_type": "markdown",
      "source": [
        "## **Knowledge base**"
      ],
      "metadata": {
        "id": "VEnqPuX3LipH"
      }
    },
    {
      "cell_type": "markdown",
      "source": [
        "### **Creazione e popolamento della knowledge base con fatti e regole**"
      ],
      "metadata": {
        "id": "3BX9D3IdhZ5w"
      }
    },
    {
      "cell_type": "code",
      "source": [
        "!pip install pyswip\n",
        "!apt-get install -y swi-prolog\n",
        "\n",
        "from pyswip import Prolog\n",
        "prolog = Prolog()\n",
        "\n",
        "prolog.consult('/content/drive/MyDrive/Progetto Icon/Prolog/richieste.pl')\n",
        "prolog.consult('/content/drive/MyDrive/Progetto Icon/Prolog/attivi.pl')\n",
        "prolog.consult('/content/drive/MyDrive/Progetto Icon/Prolog/passivi.pl')\n",
        "prolog.consult('/content/drive/MyDrive/Progetto Icon/Prolog/garanzie.pl')\n",
        "prolog.consult('/content/drive/MyDrive/Progetto Icon/Prolog/solvibilita.pl')\n",
        "prolog.consult('/content/drive/MyDrive/Progetto Icon/Prolog/regole.pl')\n"
      ],
      "metadata": {
        "id": "kHURuE7rLi2P"
      },
      "execution_count": null,
      "outputs": []
    },
    {
      "cell_type": "code",
      "source": [
        "# Mostra la definizione di fatti e regole\n",
        "print (\"% -------------------- FATTI -------------------- %\\n\")\n",
        "print(\"richiesta (Loan_id, No_of_dependents, Education, Self_employed, Income_annum, Loan_amount, Loan_term, Cibil_score, Residential_assets_value, Commercial_assets_value, Luxury_assets_value, Bank_asset_value, Loan_status).\")\n",
        "print(\"attivo (Loan_id, Income_annum, Commercial_assets_value, Bank_asset_value).\")\n",
        "print(\"passivo (Loan_id, No_of_dependents, Loan_amount, Luxury_assets_value).\")\n",
        "print(\"garanzie (Loan_id, Residential_assets_value, Commercial_assets_value, Luxury_assets_value, Bank_asset_value).\")\n",
        "print(\"solvibilita (Loan_id, Loan_amount, Loan_term, Cibil_score).\")\n",
        "print(\"\\n% -------------------- REGOLE -------------------- %\\n\")\n",
        "with open('/content/drive/MyDrive/Progetto Icon/Prolog/regole.pl', 'r', encoding='ISO-8859-1') as file:\n",
        "    content = file.read()\n",
        "    print(content)\n",
        "print(\"% ----------------------------------------------- %\\n\")\n"
      ],
      "metadata": {
        "colab": {
          "base_uri": "https://localhost:8080/"
        },
        "id": "KEgTNCtgPSgZ",
        "outputId": "fa107ae6-0b82-481a-8d60-785b2c65adcc"
      },
      "execution_count": 12,
      "outputs": [
        {
          "output_type": "stream",
          "name": "stdout",
          "text": [
            "% -------------------- FATTI -------------------- %\n",
            "\n",
            "richiesta (Loan_id, No_of_dependents, Education, Self_employed, Income_annum, Loan_amount, Loan_term, Cibil_score, Residential_assets_value, Commercial_assets_value, Luxury_assets_value, Bank_asset_value, Loan_status).\n",
            "attivo (Loan_id, Income_annum, Commercial_assets_value, Bank_asset_value).\n",
            "passivo (Loan_id, No_of_dependents, Loan_amount, Luxury_assets_value).\n",
            "garanzie (Loan_id, Residential_assets_value, Commercial_assets_value, Luxury_assets_value, Bank_asset_value).\n",
            "solvibilita (Loan_id, Loan_amount, Loan_term, Cibil_score).\n",
            "\n",
            "% -------------------- REGOLE -------------------- %\n",
            "\n",
            "% Regola: Approva il prestito se il valore degli asset commerciali\n",
            "% supera il valore della richiesta di prestito e il valore\n",
            "% degli asset sul conto corrente supera il 10% dell'ammontare del\n",
            "% prestito richiesto (serve come anticipo solitamente)\n",
            "approva_per_attivo(Loan_id) :-\n",
            "    attivo(Loan_id, Income_annum, Commercial_assets_value, Bank_asset_value),\n",
            "    passivo(Loan_id, _, Loan_amount, _),\n",
            "    Commercial_assets_value + Income_annum > Loan_amount,\n",
            "    Bank_asset_value > 0.1*Loan_amount.\n",
            "\n",
            "% Regola: Approva il prestito se il valore del reddito annuo supera di\n",
            "% 3.5 volte il valore della rata annua per ripagare il prestito\n",
            "approva_per_reddito(Loan_id) :-\n",
            "    attivo(Loan_id, Income_annum, _, _),\n",
            "    solvibilita(Loan_id, Loan_amount, Loan_term, _),\n",
            "    Income_annum > 3.5*(Loan_amount/Loan_term).\n",
            "\n",
            "% Regola: Approva il prestito se il valore degli asset in possesso del\n",
            "% richiedente e' almeno il doppio del prestito richiesto\n",
            "approva_per_garanzie(Loan_id) :-\n",
            "    garanzie(Loan_id, Residential_assets_value, Commercial_assets_value, Luxury_assets_value, Bank_asset_value),\n",
            "    solvibilita(Loan_id, Loan_amount, _,  _),\n",
            "    Residential_assets_value + Commercial_assets_value + Luxury_assets_value + Bank_asset_value > 2*(Loan_amount).\n",
            "\n",
            "% Regola: Approva il prestito se il richiedente ha una buona gestione\n",
            "% delle proprie finanze (piu attivi che passivi, oppure conto corrente\n",
            "% molto cospiquo)\n",
            "approva_per_gestione_finanze(Loan_id) :-\n",
            "    attivo(Loan_id, _, Commercial_assets_value, Bank_asset_value),\n",
            "    passivo(Loan_id, _, _, Luxury_assets_value),\n",
            "    Commercial_assets_value + Bank_asset_value > Luxury_assets_value.\n",
            "\n",
            "% Regola: Approva per piccoli prestiti avendo come garanzia un asset\n",
            "% residenziale\n",
            "approva_per_piccoli_prestiti(Loan_id) :-\n",
            "    richiesta(Loan_id, _, _, _, _, Loan_amount, _, _, Residential_assets_value, _, _, _, _),\n",
            "    Loan_amount < 3000000,\n",
            "    Residential_assets_value> Loan_amount.\n",
            "\n",
            "% Regola: Approva il prestito se il punteggio CIBIL e' maggiore di 700\n",
            "approva_per_solvibilita(Loan_id) :-\n",
            "    richiesta(Loan_id, _, _, _, _, _, _, Cibil_score, _, _, _, _, _),\n",
            "    Cibil_score > 700.\n",
            "\n",
            "% ----------------------------------------------- %\n",
            "\n"
          ]
        }
      ]
    },
    {
      "cell_type": "markdown",
      "source": [
        "### **Creazione ed uso delle query per l'applicazione delle regole**"
      ],
      "metadata": {
        "id": "eDSxOsodhlN-"
      }
    },
    {
      "cell_type": "code",
      "source": [
        "# Ottieni gli ID dei prestiti dalla base di conoscenza\n",
        "loan_ids = list(prolog.query(\"attivo(Loan_id, _, _, _).\"))\n",
        "\n",
        "# Lista per memorizzare i prestiti approvati\n",
        "prestiti_approvati = []\n",
        "\n",
        "# Itera su ogni valore di loan_id\n",
        "for result in loan_ids:\n",
        "\n",
        "    loan_id = result[\"Loan_id\"]\n",
        "\n",
        "    # Creazione delle query per ogni regola\n",
        "    query1 = f\"approva_per_attivo({loan_id}).\"\n",
        "    query2 = f\"approva_per_reddito({loan_id}).\"\n",
        "    query3 = f\"approva_per_garanzie({loan_id}).\"\n",
        "    query4 = f\"approva_per_gestione_finanze({loan_id}).\"\n",
        "    query5 = f\"approva_per_piccoli_prestiti({loan_id}).\"\n",
        "    query6 = f\"approva_per_solvibilita({loan_id}).\"\n",
        "\n",
        "    # Risultati delle query\n",
        "    solutions1 = list(prolog.query(query1))\n",
        "    solutions2 = list(prolog.query(query2))\n",
        "    solutions3 = list(prolog.query(query3))\n",
        "    solutions4 = list(prolog.query(query4))\n",
        "    solutions5 = list(prolog.query(query5))\n",
        "    solutions6 = list(prolog.query(query6))\n",
        "\n",
        "\n",
        "    if solutions1 or solutions2 or solutions3 or solutions4 or solutions5 or solutions6:\n",
        "        prestiti_approvati.append(loan_id)\n",
        "\n",
        "print(\"Prestiti approvati:\", len(prestiti_approvati))\n"
      ],
      "metadata": {
        "colab": {
          "base_uri": "https://localhost:8080/"
        },
        "id": "4_oBYd-lUbBZ",
        "outputId": "d95a7c57-84e3-4c8c-ff16-f8c76936b012"
      },
      "execution_count": 58,
      "outputs": [
        {
          "output_type": "stream",
          "name": "stdout",
          "text": [
            "Prestiti approvati: 3724\n"
          ]
        }
      ]
    },
    {
      "cell_type": "markdown",
      "source": [
        "### **Calcolo delle predizioni dei prestiti approvati e delle relative performance**"
      ],
      "metadata": {
        "id": "bASDfPhohxQ7"
      }
    },
    {
      "cell_type": "code",
      "source": [
        "# Creazione di una lista con zeri della stessa lunghezza del DataFrame\n",
        "ris_kb = [0] * len(df)\n",
        "\n",
        "# Sostituisci gli zeri con 1 nelle posizioni specificate dalla lista dei prestiti approvati\n",
        "for prestito in prestiti_approvati:\n",
        "    ris_kb[prestito - 1] = 1\n",
        "\n",
        "# Creazione del DataFrame dalla lista\n",
        "df_prestiti_approvati = pd.DataFrame(ris_kb)\n",
        "\n",
        "# Estrarre le colonne delle previsioni e delle etichette corrette\n",
        "y_pred = df_prestiti_approvati\n",
        "y_actual = y\n",
        "\n",
        "# Calcolare precision, recall e F1-score\n",
        "recall = recall_score(y_actual, y_pred)\n",
        "precision = precision_score(y_actual, y_pred)\n",
        "accuracy = accuracy_score(y_actual, y_pred)\n",
        "f1 = f1_score(y_actual, y_pred)\n",
        "\n",
        "# Stampa i risultati\n",
        "print(\"Recall:\", recall)\n",
        "print(\"Precision:\", precision)\n",
        "print(\"Accuracy:\", accuracy)\n",
        "print(\"F1-score:\", f1)"
      ],
      "metadata": {
        "colab": {
          "base_uri": "https://localhost:8080/"
        },
        "id": "mBFDhZ-XUkLz",
        "outputId": "415477d2-eea0-48c8-aeb2-47ae7ba230ec"
      },
      "execution_count": 54,
      "outputs": [
        {
          "output_type": "stream",
          "name": "stdout",
          "text": [
            "Recall: 0.8840361445783133\n",
            "Precision: 0.6305048335123523\n",
            "Accuracy: 0.6055282267509956\n",
            "F1-score: 0.7360501567398119\n"
          ]
        }
      ]
    },
    {
      "cell_type": "markdown",
      "source": [
        "### **Discussione risultati**"
      ],
      "metadata": {
        "id": "mPLcrcH1fcx2"
      }
    },
    {
      "cell_type": "code",
      "source": [
        "!pip install tabulate\n",
        "from tabulate import tabulate\n",
        "\n",
        "# Creare un DataFrame vuoto\n",
        "df_performance_kb = pd.DataFrame()\n",
        "\n",
        "model_performance = {\n",
        "    'Modello': 'Knowledge base',\n",
        "    'Recall': recall,\n",
        "    'Precision': precision,\n",
        "    'Accuracy': accuracy,\n",
        "    'F1-score': f1\n",
        "}\n",
        "\n",
        "df_performance_kb = df_performance_kb.append(model_performance, ignore_index=True)\n",
        "\n",
        "# Mostrare la tabella delle performance utilizzando tabulate\n",
        "print(tabulate(df_performance_kb, headers='keys', tablefmt='psql'))\n"
      ],
      "metadata": {
        "colab": {
          "base_uri": "https://localhost:8080/"
        },
        "id": "5ljF9C7bfYpO",
        "outputId": "66fe16ae-1f30-4eb6-8bad-a72dc9d423d5"
      },
      "execution_count": 57,
      "outputs": [
        {
          "output_type": "stream",
          "name": "stdout",
          "text": [
            "Requirement already satisfied: tabulate in /usr/local/lib/python3.10/dist-packages (0.9.0)\n",
            "+----+----------------+----------+-------------+------------+------------+\n",
            "|    | Modello        |   Recall |   Precision |   Accuracy |   F1-score |\n",
            "|----+----------------+----------+-------------+------------+------------|\n",
            "|  0 | Knowledge base | 0.884036 |    0.630505 |   0.605528 |    0.73605 |\n",
            "+----+----------------+----------+-------------+------------+------------+\n"
          ]
        }
      ]
    }
  ],
  "metadata": {
    "colab": {
      "collapsed_sections": [
        "GXXhKjjsOQds",
        "_Ob91Tna31Sp",
        "yAZEwXQq_aGb",
        "12ShO2yzIJR4",
        "hwAgDPhFMR5S",
        "-GpU5hh33WMa",
        "5Oeb2fii3dqX",
        "BFC3C3_j4oSu",
        "j6jy0TXg7MWn",
        "SGpo8DHa78D9",
        "65pEgfQV8TPI",
        "pyjwy4Ep8X2M",
        "F1CPOdJSAFCh",
        "UQbBy3iCAWDd",
        "uiCrMct2upOf",
        "VEnqPuX3LipH",
        "3BX9D3IdhZ5w",
        "eDSxOsodhlN-",
        "bASDfPhohxQ7",
        "mPLcrcH1fcx2"
      ],
      "provenance": [],
      "mount_file_id": "1LaflwrMojoPU90WyIr-b9WjMdXOuq087",
      "authorship_tag": "ABX9TyNxsVRJs5eDp5YkA5tXZGUk",
      "include_colab_link": true
    },
    "kernelspec": {
      "display_name": "Python 3",
      "name": "python3"
    },
    "language_info": {
      "name": "python"
    }
  },
  "nbformat": 4,
  "nbformat_minor": 0
}