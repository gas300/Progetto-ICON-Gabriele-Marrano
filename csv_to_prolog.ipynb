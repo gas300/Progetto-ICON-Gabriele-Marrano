{
  "nbformat": 4,
  "nbformat_minor": 0,
  "metadata": {
    "colab": {
      "provenance": [],
      "include_colab_link": true
    },
    "kernelspec": {
      "name": "python3",
      "display_name": "Python 3"
    },
    "language_info": {
      "name": "python"
    }
  },
  "cells": [
    {
      "cell_type": "markdown",
      "metadata": {
        "id": "view-in-github",
        "colab_type": "text"
      },
      "source": [
        "<a href=\"https://colab.research.google.com/github/gas300/Progetto-ICON-Gabriele-Marrano/blob/main/csv_to_prolog.ipynb\" target=\"_parent\"><img src=\"https://colab.research.google.com/assets/colab-badge.svg\" alt=\"Open In Colab\"/></a>"
      ]
    },
    {
      "cell_type": "code",
      "execution_count": null,
      "metadata": {
        "id": "ZD6xBvGcPMQJ"
      },
      "outputs": [],
      "source": [
        "import csv\n",
        "\n",
        "def csv_to_prolog_fact(row):\n",
        "    return \"richiesta({}, {}, '{}', '{}', {}, {}, {}, {}, {}, {}, {}, {}, '{}').\".format(row[0], row[1], row[2], row[3], row[4], row[5], row[6],row[7], row[8], row[9], row[10], row[11], row[12])\n",
        "\n",
        "with open('/content/drive/MyDrive/loan_approval_dataset.csv', 'r') as csv_file, open('fatti_prolog.pl', 'w') as prolog_file:\n",
        "    csv_reader = csv.reader(csv_file)\n",
        "    next(csv_reader)  # Skip the header row\n",
        "    for row in csv_reader:\n",
        "        prolog_fact = csv_to_prolog_fact(row)\n",
        "        prolog_file.write(prolog_fact + '\\n')\n"
      ]
    }
  ]
}